{
 "cells": [
  {
   "attachments": {},
   "cell_type": "markdown",
   "metadata": {},
   "source": [
    "<aside>\n",
    "💡 **Question 1**\n",
    "\n",
    "Given an integer `n`, return *`true` if it is a power of two. Otherwise, return `false`*.\n",
    "\n",
    "An integer `n` is a power of two, if there exists an integer `x` such that `n == 2x`.\n",
    "\n",
    "**Example 1:**\n",
    "Input: n = 1 \n",
    "\n",
    "Output: true\n",
    "\n",
    "**Example 2:**\n",
    "Input: n = 16 \n",
    "\n",
    "Output: true\n",
    "\n",
    "**Example 3:**\n",
    "Input: n = 3 \n",
    "\n",
    "Output: false\n",
    "\n",
    "</aside>"
   ]
  },
  {
   "cell_type": "code",
   "execution_count": 21,
   "metadata": {},
   "outputs": [
    {
     "data": {
      "text/plain": [
       "False"
      ]
     },
     "execution_count": 21,
     "metadata": {},
     "output_type": "execute_result"
    }
   ],
   "source": [
    "#Solution\n",
    "def power_of_2(n):\n",
    "    if n <=1:\n",
    "        return False\n",
    "    \n",
    "    while n%2 ==0:\n",
    "        n /= 2\n",
    "    return n == 1\n",
    "    \n",
    "#Let's try with example1:\n",
    "n = 1\n",
    "power_of_2(n)"
   ]
  },
  {
   "cell_type": "code",
   "execution_count": 19,
   "metadata": {},
   "outputs": [
    {
     "data": {
      "text/plain": [
       "False"
      ]
     },
     "execution_count": 19,
     "metadata": {},
     "output_type": "execute_result"
    }
   ],
   "source": [
    "#Let's try with example 2:\n",
    "n = 16\n",
    "power_of_2(n)"
   ]
  },
  {
   "cell_type": "code",
   "execution_count": 20,
   "metadata": {},
   "outputs": [
    {
     "data": {
      "text/plain": [
       "False"
      ]
     },
     "execution_count": 20,
     "metadata": {},
     "output_type": "execute_result"
    }
   ],
   "source": [
    "#Let's try with example 3:\n",
    "n = 3\n",
    "power_of_2(n)"
   ]
  },
  {
   "cell_type": "markdown",
   "metadata": {},
   "source": []
  },
  {
   "attachments": {},
   "cell_type": "markdown",
   "metadata": {},
   "source": [
    "<aside>\n",
    "💡 **Question 2**\n",
    "\n",
    "Given a number n, find the sum of the first natural numbers.\n",
    "\n",
    "**Example 1:**\n",
    "\n",
    "Input: n = 3 \n",
    "\n",
    "Output: 6\n",
    "\n",
    "**Example 2:**\n",
    "\n",
    "Input  : 5 \n",
    "\n",
    "Output : 15\n",
    "\n",
    "</aside>"
   ]
  },
  {
   "cell_type": "code",
   "execution_count": 31,
   "metadata": {},
   "outputs": [
    {
     "name": "stdout",
     "output_type": "stream",
     "text": [
      "Sum of natural number =  6\n",
      "Sum of natural number =  15\n"
     ]
    }
   ],
   "source": [
    "\n",
    "#Solution:\n",
    "def nat_sum(n):\n",
    "    a= 0\n",
    "    while n > 0:\n",
    "        a += n\n",
    "        n -= 1\n",
    "    print(\"Sum of natural number = \",a)\n",
    "\n",
    "#Let's try with example 1\n",
    "n = 3\n",
    "nat_sum(n)\n",
    "\n",
    "#Let's try with example 2:\n",
    "n = 5\n",
    "nat_sum(n)\n"
   ]
  },
  {
   "cell_type": "markdown",
   "metadata": {},
   "source": []
  },
  {
   "attachments": {},
   "cell_type": "markdown",
   "metadata": {},
   "source": [
    "<aside>\n",
    "💡 **Question 3**\n",
    "\n",
    "****Given a positive integer, N. Find the factorial of N. \n",
    "\n",
    "**Example 1:**\n",
    "\n",
    "Input: N = 5 \n",
    "\n",
    "Output: 120\n",
    "\n",
    "**Example 2:**\n",
    "\n",
    "Input: N = 4\n",
    "\n",
    "Output: 24\n",
    "\n",
    "</aside>"
   ]
  },
  {
   "cell_type": "code",
   "execution_count": 30,
   "metadata": {},
   "outputs": [
    {
     "name": "stdout",
     "output_type": "stream",
     "text": [
      "factorial of number =  120\n",
      "factorial of number =  24\n"
     ]
    }
   ],
   "source": [
    "\n",
    "#solution:\n",
    "def facto(n):\n",
    "    a= 1\n",
    "    while n > 0:\n",
    "        a *= n\n",
    "        n -= 1\n",
    "    print(\"factorial of number = \",a)\n",
    "\n",
    "#Let's try with example 1\n",
    "n = 5\n",
    "facto(n)\n",
    "\n",
    "#Let's try with example 2:\n",
    "n = 4\n",
    "facto(n)"
   ]
  },
  {
   "cell_type": "markdown",
   "metadata": {},
   "source": []
  },
  {
   "attachments": {},
   "cell_type": "markdown",
   "metadata": {},
   "source": [
    "<aside>\n",
    "💡 **Question 4**\n",
    "\n",
    "Given a number N and a power P, the task is to find the exponent of this number raised to the given power, i.e. N^P.\n",
    "\n",
    "**Example 1 :** \n",
    "\n",
    "Input: N = 5, P = 2\n",
    "\n",
    "Output: 25\n",
    "\n",
    "**Example 2 :**\n",
    "Input: N = 2, P = 5\n",
    "\n",
    "Output: 32\n",
    "\n",
    "</aside>"
   ]
  },
  {
   "cell_type": "code",
   "execution_count": 17,
   "metadata": {},
   "outputs": [
    {
     "name": "stdout",
     "output_type": "stream",
     "text": [
      "result:  25\n",
      "result:  32\n"
     ]
    }
   ],
   "source": [
    "#Solution:\n",
    "def powern(n,p):\n",
    "    a = n**p\n",
    "    print(\"result: \",a)\n",
    "\n",
    "#Let's try with example 1\n",
    "n = 5\n",
    "p=2\n",
    "powern(n,p)\n",
    "\n",
    "#Let's try with example 2:\n",
    "n = 2\n",
    "p=5\n",
    "powern(n,p)"
   ]
  },
  {
   "cell_type": "markdown",
   "metadata": {},
   "source": []
  },
  {
   "attachments": {},
   "cell_type": "markdown",
   "metadata": {},
   "source": [
    "<aside>\n",
    "💡 **Question 5**\n",
    "\n",
    "Given an array of integers **arr**, the task is to find maximum element of that array using recursion.\n",
    "\n",
    "**Example 1:**\n",
    "\n",
    "Input: arr = {1, 4, 3, -5, -4, 8, 6};\n",
    "Output: 8\n",
    "\n",
    "**Example 2:**\n",
    "\n",
    "Input: arr = {1, 4, 45, 6, 10, -8};\n",
    "Output: 45\n",
    "\n",
    "</aside>"
   ]
  },
  {
   "cell_type": "code",
   "execution_count": 29,
   "metadata": {},
   "outputs": [
    {
     "name": "stdout",
     "output_type": "stream",
     "text": [
      "8\n",
      "45\n"
     ]
    }
   ],
   "source": [
    "#Solution:\n",
    "def max_arr(arr,n):\n",
    "    if n == 1:\n",
    "        return arr[0]\n",
    "\n",
    "    # Recursive case: Find the maximum of the remaining elements\n",
    "    max_rest = max_arr(arr, n - 1)\n",
    "\n",
    "    # Compare the maximum of the remaining elements with the current element\n",
    "    return max(max_rest, arr[n - 1])\n",
    "\n",
    "#Let's try with example 1\n",
    "arr = [1, 4, 3, -5, -4, 8, 6]\n",
    "max1 = max_arr(arr,len(arr))\n",
    "print(max1)\n",
    "\n",
    "#Let's try with example 2:\n",
    "arr = [1, 4, 45, 6, 10, -8]\n",
    "max2 = max_arr(arr, len(arr))\n",
    "print(max2)\n"
   ]
  },
  {
   "cell_type": "markdown",
   "metadata": {},
   "source": []
  },
  {
   "attachments": {},
   "cell_type": "markdown",
   "metadata": {},
   "source": [
    "<aside>\n",
    "💡 **Question 6**\n",
    "\n",
    "Given first term (a), common difference (d) and a integer N of the Arithmetic Progression series, the task is to find Nth term of the series.\n",
    "\n",
    "**Example 1:**\n",
    "\n",
    "Input : a = 2 d = 1 N = 5\n",
    "Output : 6\n",
    "The 5th term of the series is : 6\n",
    "\n",
    "**Example 2:**\n",
    "\n",
    "Input : a = 5 d = 2 N = 10\n",
    "Output : 23\n",
    "The 10th term of the series is : 23\n",
    "\n",
    "</aside>"
   ]
  },
  {
   "cell_type": "code",
   "execution_count": 25,
   "metadata": {},
   "outputs": [
    {
     "data": {
      "text/plain": [
       "('nth term:', 6)"
      ]
     },
     "execution_count": 25,
     "metadata": {},
     "output_type": "execute_result"
    }
   ],
   "source": [
    "#Solution:\n",
    "def nth_term(a , d , n):\n",
    "    nth = a+d*(n-1)\n",
    "    return \"nth term:\",nth\n",
    "\n",
    "#Let's try with example 1\n",
    "a = 2 \n",
    "d = 1 \n",
    "N = 5\n",
    "nth_term(a,d,N)\n",
    "\n",
    "\n"
   ]
  },
  {
   "cell_type": "code",
   "execution_count": 24,
   "metadata": {},
   "outputs": [
    {
     "data": {
      "text/plain": [
       "('nth term:', 23)"
      ]
     },
     "execution_count": 24,
     "metadata": {},
     "output_type": "execute_result"
    }
   ],
   "source": [
    "#Let's try with example 2:\n",
    "a = 5 \n",
    "d = 2 \n",
    "N = 10\n",
    "nth_term(a,d,N)"
   ]
  },
  {
   "cell_type": "markdown",
   "metadata": {},
   "source": []
  },
  {
   "attachments": {},
   "cell_type": "markdown",
   "metadata": {},
   "source": [
    "<aside>\n",
    "💡 **Question 7**\n",
    "\n",
    "Given a string S, the task is to write a program to print all permutations of a given string.\n",
    "\n",
    "**Example 1:**\n",
    "\n",
    "***Input:***\n",
    "\n",
    "*S = “ABC”*\n",
    "\n",
    "***Output:***\n",
    "\n",
    "*“ABC”, “ACB”, “BAC”, “BCA”, “CBA”, “CAB”*\n",
    "\n",
    "**Example 2:**\n",
    "\n",
    "***Input:***\n",
    "\n",
    "*S = “XY”*\n",
    "\n",
    "***Output:***\n",
    "\n",
    "*“XY”, “YX”*\n",
    "\n",
    "</aside>"
   ]
  },
  {
   "cell_type": "code",
   "execution_count": 28,
   "metadata": {},
   "outputs": [
    {
     "name": "stdout",
     "output_type": "stream",
     "text": [
      "result: ['ABC', 'ACB', 'BAC', 'BCA', 'CBA', 'CAB']\n",
      "result: ['XY', 'YX']\n"
     ]
    }
   ],
   "source": [
    "#Solution:\n",
    "def permute(s):\n",
    "    # Convert the string to a list of characters for easier manipulation\n",
    "    chars = list(s)\n",
    "    n = len(chars)\n",
    "    permutations = []\n",
    "\n",
    "    def backtrack(start):\n",
    "        if start == n - 1:\n",
    "            # Base case: reached the end of the string, add the current permutation\n",
    "            permutations.append(\"\".join(chars))\n",
    "        else:\n",
    "            for i in range(start, n):\n",
    "                # Swap characters\n",
    "                chars[start], chars[i] = chars[i], chars[start]\n",
    "                # Recurse to generate permutations for the remaining string\n",
    "                backtrack(start + 1)\n",
    "                # Backtrack by swapping the characters back\n",
    "                chars[start], chars[i] = chars[i], chars[start]\n",
    "\n",
    "    # Start the backtracking process from index 0\n",
    "    backtrack(0)\n",
    "\n",
    "    return permutations\n",
    "\n",
    "# Test example 1\n",
    "s1 = \"ABC\"\n",
    "result1 = permute(s1)\n",
    "print(\"result:\",result1) \n",
    "\n",
    "# Test example 2\n",
    "s2 = \"XY\"\n",
    "result2 = permute(s2)\n",
    "print(\"result:\",result2)  "
   ]
  },
  {
   "cell_type": "markdown",
   "metadata": {},
   "source": []
  },
  {
   "attachments": {},
   "cell_type": "markdown",
   "metadata": {},
   "source": [
    "<aside>\n",
    "💡 **Question 8**\n",
    "\n",
    "Given an array, find a product of all array elements.\n",
    "\n",
    "**Example 1:**\n",
    "\n",
    "Input  : arr[] = {1, 2, 3, 4, 5}\n",
    "Output : 120\n",
    "**Example 2:**\n",
    "\n",
    "Input  : arr[] = {1, 6, 3}\n",
    "Output : 18\n",
    "\n",
    "</aside>"
   ]
  },
  {
   "cell_type": "code",
   "execution_count": 7,
   "metadata": {},
   "outputs": [],
   "source": [
    "#Solution:\n",
    "def product_array(arr):\n",
    "    a = 1\n",
    "    for i in arr:\n",
    "        a=a*i\n",
    "\n",
    "    return \"Product of array elements:\",a"
   ]
  },
  {
   "cell_type": "code",
   "execution_count": 8,
   "metadata": {},
   "outputs": [
    {
     "data": {
      "text/plain": [
       "('Product of array elements:', 18)"
      ]
     },
     "execution_count": 8,
     "metadata": {},
     "output_type": "execute_result"
    }
   ],
   "source": [
    "#Now lets try with example 1\n",
    "arr = {1, 6, 3}\n",
    "product_array(arr)"
   ]
  },
  {
   "cell_type": "code",
   "execution_count": 9,
   "metadata": {},
   "outputs": [
    {
     "data": {
      "text/plain": [
       "('Product of array elements:', 120)"
      ]
     },
     "execution_count": 9,
     "metadata": {},
     "output_type": "execute_result"
    }
   ],
   "source": [
    "#Now lets try with example 2\n",
    "arr = {1, 2, 3, 4, 5}\n",
    "product_array(arr)"
   ]
  }
 ],
 "metadata": {
  "kernelspec": {
   "display_name": "base",
   "language": "python",
   "name": "python3"
  },
  "language_info": {
   "codemirror_mode": {
    "name": "ipython",
    "version": 3
   },
   "file_extension": ".py",
   "mimetype": "text/x-python",
   "name": "python",
   "nbconvert_exporter": "python",
   "pygments_lexer": "ipython3",
   "version": "3.10.9"
  },
  "orig_nbformat": 4
 },
 "nbformat": 4,
 "nbformat_minor": 2
}
