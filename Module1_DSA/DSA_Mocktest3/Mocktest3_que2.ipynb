{
 "cells": [
  {
   "attachments": {},
   "cell_type": "markdown",
   "metadata": {},
   "source": [
    "Implement a queue using a list in Python. Include the necessary methods such as enqueue, dequeue, and isEmpty."
   ]
  },
  {
   "cell_type": "code",
   "execution_count": 1,
   "metadata": {},
   "outputs": [],
   "source": [
    "class Queue:\n",
    "    def __init__(self):\n",
    "        self.items = []  # Creating an empty list to store the queue elements\n",
    "\n",
    "    def enqueue(self, item):\n",
    "        # Adds an element to the end of the queue.\n",
    "\n",
    "        self.items.append(item)\n",
    "\n",
    "    def dequeue(self):\n",
    "        \"\"\"\n",
    "        Removes and returns the element from the front of the queue.\n",
    "        Raises IndexError if the queue is empty.\n",
    "        \"\"\"\n",
    "        if not self.is_empty():\n",
    "            return self.items.pop(0)\n",
    "        else:\n",
    "            raise IndexError(\"Queue is empty, Can't perform dequeue operation.\")\n",
    "\n",
    "    def is_empty(self):\n",
    "        \"\"\"\n",
    "        Checks if the queue is empty.\n",
    "        Returns True if the queue is empty, False otherwise.\n",
    "        \"\"\"\n",
    "        return len(self.items) == 0\n"
   ]
  },
  {
   "cell_type": "code",
   "execution_count": 4,
   "metadata": {},
   "outputs": [
    {
     "name": "stdout",
     "output_type": "stream",
     "text": [
      "12\n",
      "17\n",
      "25\n",
      "False\n"
     ]
    }
   ],
   "source": [
    "queue1 = Queue()  # Creating a new queue\n",
    "\n",
    "queue1.enqueue(12)  # Adding elements to the queue\n",
    "queue1.enqueue(17)\n",
    "queue1.enqueue(25)\n",
    "queue1.enqueue(35)\n",
    "\n",
    "\n",
    "print(queue1.dequeue())  # Removing and printing the front element of the queue\n",
    "print(queue1.dequeue())\n",
    "print(queue1.dequeue())\n",
    "print(queue1.is_empty())  # Checking if the queue is empty\n"
   ]
  },
  {
   "cell_type": "code",
   "execution_count": null,
   "metadata": {},
   "outputs": [],
   "source": []
  }
 ],
 "metadata": {
  "kernelspec": {
   "display_name": "base",
   "language": "python",
   "name": "python3"
  },
  "language_info": {
   "codemirror_mode": {
    "name": "ipython",
    "version": 3
   },
   "file_extension": ".py",
   "mimetype": "text/x-python",
   "name": "python",
   "nbconvert_exporter": "python",
   "pygments_lexer": "ipython3",
   "version": "3.10.9"
  },
  "orig_nbformat": 4
 },
 "nbformat": 4,
 "nbformat_minor": 2
}
