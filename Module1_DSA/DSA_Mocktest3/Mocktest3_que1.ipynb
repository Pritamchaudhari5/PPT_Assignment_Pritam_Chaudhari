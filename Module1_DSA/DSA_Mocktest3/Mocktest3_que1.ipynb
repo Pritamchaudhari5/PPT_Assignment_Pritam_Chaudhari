{
 "cells": [
  {
   "attachments": {},
   "cell_type": "markdown",
   "metadata": {},
   "source": [
    "Implement a stack using a list in Python. Include the necessary methods such as push, pop, and isEmpty."
   ]
  },
  {
   "cell_type": "code",
   "execution_count": 3,
   "metadata": {},
   "outputs": [],
   "source": [
    "class Stack:\n",
    "    def __init__(self):\n",
    "        self.items = []  # Creating an empty list to store the stack elements\n",
    "\n",
    "    def push(self, item):\n",
    "        \"\"\"\n",
    "        Adds an element at the top of the stack.\n",
    "        \"\"\"\n",
    "        self.items.append(item)\n",
    "\n",
    "    def pop(self):\n",
    "        \"\"\"\n",
    "        Removes and returns the element from the top of the stack.\n",
    "        Raises IndexError if the stack is empty.\n",
    "        \"\"\"\n",
    "        if not self.is_empty():\n",
    "            return self.items.pop()\n",
    "        else:\n",
    "            raise IndexError(\"Stack is empty. Cannot perform pop operation.\")\n",
    "\n",
    "    def is_empty(self):\n",
    "        \"\"\"\n",
    "        Checks if the stack is empty.\n",
    "        Returns True if the stack is empty, False otherwise.\n",
    "        \"\"\"\n",
    "        return len(self.items) == 0\n"
   ]
  },
  {
   "cell_type": "code",
   "execution_count": 5,
   "metadata": {},
   "outputs": [
    {
     "name": "stdout",
     "output_type": "stream",
     "text": [
      "38\n",
      "25\n",
      "18\n",
      "False\n"
     ]
    }
   ],
   "source": [
    "stack1 = Stack()  # Creating a new stack\n",
    "\n",
    "stack1.push(14)  # Adding elements to the stack\n",
    "stack1.push(18)\n",
    "stack1.push(25)\n",
    "stack1.push(38)\n",
    "\n",
    "print(stack1.pop())  # Removing and printing the top element of the stack\n",
    "print(stack1.pop())\n",
    "print(stack1.pop())\n",
    "\n",
    "print(stack1.is_empty())  # Checking if the stack is empty\n"
   ]
  },
  {
   "cell_type": "code",
   "execution_count": null,
   "metadata": {},
   "outputs": [],
   "source": []
  }
 ],
 "metadata": {
  "kernelspec": {
   "display_name": "base",
   "language": "python",
   "name": "python3"
  },
  "language_info": {
   "codemirror_mode": {
    "name": "ipython",
    "version": 3
   },
   "file_extension": ".py",
   "mimetype": "text/x-python",
   "name": "python",
   "nbconvert_exporter": "python",
   "pygments_lexer": "ipython3",
   "version": "3.10.9"
  },
  "orig_nbformat": 4
 },
 "nbformat": 4,
 "nbformat_minor": 2
}
