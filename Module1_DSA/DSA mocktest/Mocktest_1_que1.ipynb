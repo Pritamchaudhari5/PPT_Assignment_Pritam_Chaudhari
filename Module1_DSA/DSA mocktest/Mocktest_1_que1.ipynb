{
 "cells": [
  {
   "attachments": {},
   "cell_type": "markdown",
   "metadata": {},
   "source": [
    "Move Zeroes\n",
    "Given an integer array nums, move all 0's to the end of it while maintaining the relative order of the non-zero elements.\n",
    "\n",
    "Note that you must do this in-place without making a copy of the array.\n",
    "\n",
    "Example 1:\n",
    "Input: nums = [0,1,0,3,12]\n",
    "Output: [1,3,12,0,0]\n",
    "\n",
    "Example 2:\n",
    "Input: nums = [0]\n",
    "Output: [0]\n",
    "\n",
    "Constraints:\n",
    "a. 1 <= nums.length <= 10^4\n",
    "b. -2^31 <= nums[i] <= 2^31 - 1\n"
   ]
  },
  {
   "cell_type": "code",
   "execution_count": 25,
   "metadata": {},
   "outputs": [
    {
     "data": {
      "text/plain": [
       "('Result', [0])"
      ]
     },
     "execution_count": 25,
     "metadata": {},
     "output_type": "execute_result"
    }
   ],
   "source": [
    "#Solution\n",
    "def move_zeroes(nums):\n",
    "        for a in range(1, 10**4): # define the range \n",
    "            \n",
    "            j=0 # Make a pointer\n",
    "        \n",
    "            for i in range(len(nums)):\n",
    "                if nums[i] != 0:\n",
    "                    nums[j],nums[i] = nums[i],nums[j]  #Let's try with each element\n",
    "                    j +=1\n",
    "            return \"Result\",nums\n",
    "        \n",
    "\n",
    "#Let's try some example:\n",
    "#Example 1\n",
    "nums = [0]\n",
    "move_zeroes(nums)\n",
    "\n",
    "\n"
   ]
  },
  {
   "cell_type": "code",
   "execution_count": 26,
   "metadata": {},
   "outputs": [
    {
     "data": {
      "text/plain": [
       "('Result', [1, 3, 12, 0, 0])"
      ]
     },
     "execution_count": 26,
     "metadata": {},
     "output_type": "execute_result"
    }
   ],
   "source": [
    "#Example 2\n",
    "nums = [0,1,0,3,12]\n",
    "move_zeroes(nums)"
   ]
  },
  {
   "cell_type": "code",
   "execution_count": null,
   "metadata": {},
   "outputs": [],
   "source": [
    "#Let's try another waay to solve"
   ]
  },
  {
   "cell_type": "code",
   "execution_count": 35,
   "metadata": {},
   "outputs": [],
   "source": [
    "#Solution:\n",
    "def move_zeroes2(nums):\n",
    "        for a in range(1, 10**4): # define the range \n",
    "        \n",
    "            n=len(nums)\n",
    "            i=0 \n",
    "            j=1\n",
    "            while(i<=n-1 and j<=n-1):\n",
    "                if nums[i]!=0 and nums[j]!=0: #If both value are non zero\n",
    "                    i+=1\n",
    "                    j+=1\n",
    "                elif nums[i]==0 and nums[j]!=0:\n",
    "                    t=nums[j]\n",
    "                    nums[j]=nums[i]\n",
    "                    nums[i]=t\n",
    "                    i+=1\n",
    "                    j+=1\n",
    "                elif nums[i]==0 and nums[j]==0: #If both are zero then increase the value of j\n",
    "                    j+=1\n",
    "                else:\n",
    "                    i+=1\n",
    "                    j+=1\n",
    "                \n",
    "            return \"Result\",nums"
   ]
  },
  {
   "cell_type": "code",
   "execution_count": 36,
   "metadata": {},
   "outputs": [
    {
     "data": {
      "text/plain": [
       "('Result', [0])"
      ]
     },
     "execution_count": 36,
     "metadata": {},
     "output_type": "execute_result"
    }
   ],
   "source": [
    "#Let's try some example:\n",
    "#Example 1\n",
    "nums = [0]\n",
    "move_zeroes2(nums)"
   ]
  },
  {
   "cell_type": "code",
   "execution_count": 29,
   "metadata": {},
   "outputs": [
    {
     "data": {
      "text/plain": [
       "('Result', [1, 3, 12, 0, 0])"
      ]
     },
     "execution_count": 29,
     "metadata": {},
     "output_type": "execute_result"
    }
   ],
   "source": [
    "#Example 2\n",
    "nums = [0,1,0,3,12]\n",
    "move_zeroes2(nums)"
   ]
  },
  {
   "attachments": {},
   "cell_type": "markdown",
   "metadata": {},
   "source": []
  }
 ],
 "metadata": {
  "kernelspec": {
   "display_name": "base",
   "language": "python",
   "name": "python3"
  },
  "language_info": {
   "codemirror_mode": {
    "name": "ipython",
    "version": 3
   },
   "file_extension": ".py",
   "mimetype": "text/x-python",
   "name": "python",
   "nbconvert_exporter": "python",
   "pygments_lexer": "ipython3",
   "version": "3.10.9"
  },
  "orig_nbformat": 4
 },
 "nbformat": 4,
 "nbformat_minor": 2
}
