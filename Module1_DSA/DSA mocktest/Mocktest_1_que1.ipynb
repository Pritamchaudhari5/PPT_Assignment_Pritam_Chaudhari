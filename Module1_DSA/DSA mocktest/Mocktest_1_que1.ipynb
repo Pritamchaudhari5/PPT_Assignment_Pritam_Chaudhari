{
 "cells": [
  {
   "attachments": {},
   "cell_type": "markdown",
   "metadata": {},
   "source": [
    "Move Zeroes\n",
    "Given an integer array nums, move all 0's to the end of it while maintaining the relative order of the non-zero elements.\n",
    "\n",
    "Note that you must do this in-place without making a copy of the array.\n",
    "\n",
    "Example 1:\n",
    "Input: nums = [0,1,0,3,12]\n",
    "Output: [1,3,12,0,0]\n",
    "\n",
    "Example 2:\n",
    "Input: nums = [0]\n",
    "Output: [0]\n",
    "\n",
    "Constraints:\n",
    "a. 1 <= nums.length <= 10^4\n",
    "b. -2^31 <= nums[i] <= 2^31 - 1\n"
   ]
  },
  {
   "cell_type": "code",
   "execution_count": 30,
   "metadata": {},
   "outputs": [
    {
     "data": {
      "text/plain": [
       "('Result', [0])"
      ]
     },
     "execution_count": 30,
     "metadata": {},
     "output_type": "execute_result"
    }
   ],
   "source": [
    "#Solution\n",
    "def move_zeroes(nums):\n",
    "        if 1 <= len(nums) <= 10**4: # define the range \n",
    "            \n",
    "            j=0 # Make a pointer\n",
    "        \n",
    "            for i in range(len(nums)):\n",
    "                if -2**31 <= nums[i] <= 2**31-1:\n",
    "                \n",
    "                    if nums[i] != 0:\n",
    "                        nums[j],nums[i] = nums[i],nums[j]  #Let's try with each element\n",
    "                        j +=1\n",
    "                \n",
    "                else:\n",
    "                     return \"nums[i] is out of range\"\n",
    "                \n",
    "            return \"Result\",nums\n",
    "        else:\n",
    "             return \"nums length Out of Range\"\n",
    "        \n",
    "\n",
    "#Let's try some example:\n",
    "#Example 1\n",
    "nums = [0]\n",
    "move_zeroes(nums)\n",
    "\n",
    "\n",
    "#Constraints:\n",
    "#a. 1 <= nums.length <= 10^4\n",
    "#b. -2^31 <= nums[i] <= 2^31 - 1\n",
    "#All Constraint follows:"
   ]
  },
  {
   "cell_type": "code",
   "execution_count": 31,
   "metadata": {},
   "outputs": [
    {
     "data": {
      "text/plain": [
       "('Result', [1, 3, 12, 0, 0])"
      ]
     },
     "execution_count": 31,
     "metadata": {},
     "output_type": "execute_result"
    }
   ],
   "source": [
    "#Example 2\n",
    "nums = [0,1,0,3,12]\n",
    "move_zeroes(nums)"
   ]
  },
  {
   "cell_type": "code",
   "execution_count": 32,
   "metadata": {},
   "outputs": [
    {
     "data": {
      "text/plain": [
       "'nums length Out of Range'"
      ]
     },
     "execution_count": 32,
     "metadata": {},
     "output_type": "execute_result"
    }
   ],
   "source": [
    "#Example 3\n",
    "nums = []           #for no. out of range\n",
    "move_zeroes(nums)"
   ]
  },
  {
   "cell_type": "code",
   "execution_count": 33,
   "metadata": {},
   "outputs": [
    {
     "data": {
      "text/plain": [
       "'nums[i] is out of range'"
      ]
     },
     "execution_count": 33,
     "metadata": {},
     "output_type": "execute_result"
    }
   ],
   "source": [
    "#Example 4\n",
    "nums = [0,1,0,8888888888888,12]\n",
    "move_zeroes(nums)"
   ]
  },
  {
   "cell_type": "code",
   "execution_count": 34,
   "metadata": {},
   "outputs": [
    {
     "data": {
      "text/plain": [
       "'nums[i] is out of range'"
      ]
     },
     "execution_count": 34,
     "metadata": {},
     "output_type": "execute_result"
    }
   ],
   "source": [
    "#Example 5\n",
    "nums = [0,1,0,-2**33,12]\n",
    "move_zeroes(nums)"
   ]
  },
  {
   "cell_type": "code",
   "execution_count": null,
   "metadata": {},
   "outputs": [],
   "source": [
    "#Let's try another waay to solve"
   ]
  },
  {
   "cell_type": "code",
   "execution_count": 28,
   "metadata": {},
   "outputs": [],
   "source": [
    "#Solution:\n",
    "def move_zeroes2(nums):\n",
    "        if 1 <= len(nums) <= 10**4: # define the range for nums\n",
    "        \n",
    "            n=len(nums)\n",
    "            i=0 \n",
    "            j=1\n",
    "            while(i<=n-1 and j<=n-1):\n",
    "                for k in range(len(nums)):\n",
    "                    if -2**31 <= nums[k] <= 2**31-1:\n",
    "                        if nums[i]!=0 and nums[j]!=0: #If both value are non zero\n",
    "                            i+=1\n",
    "                            j+=1\n",
    "                        elif nums[i]==0 and nums[j]!=0:\n",
    "                            t=nums[j]\n",
    "                            nums[j]=nums[i]\n",
    "                            nums[i]=t\n",
    "                            i+=1\n",
    "                            j+=1\n",
    "                        elif nums[i]==0 and nums[j]==0: #If both are zero then increase the value of j\n",
    "                            j+=1\n",
    "                        else:\n",
    "                            i+=1\n",
    "                            j+=1\n",
    "                        \n",
    "                    else:\n",
    "                        return \"The value of nums[k] is out of range\"\n",
    "                \n",
    "            return \"Result\",nums\n",
    "        else:\n",
    "             return \"Out of Range\""
   ]
  },
  {
   "cell_type": "code",
   "execution_count": 6,
   "metadata": {},
   "outputs": [
    {
     "data": {
      "text/plain": [
       "('Result', [0])"
      ]
     },
     "execution_count": 6,
     "metadata": {},
     "output_type": "execute_result"
    }
   ],
   "source": [
    "#Let's try some example:\n",
    "#Example 1\n",
    "nums = [0]\n",
    "move_zeroes2(nums)"
   ]
  },
  {
   "cell_type": "code",
   "execution_count": 7,
   "metadata": {},
   "outputs": [
    {
     "data": {
      "text/plain": [
       "('Result', [1, 3, 12, 0, 0])"
      ]
     },
     "execution_count": 7,
     "metadata": {},
     "output_type": "execute_result"
    }
   ],
   "source": [
    "#Example 2\n",
    "nums = [0,1,0,3,12]\n",
    "move_zeroes2(nums)"
   ]
  },
  {
   "cell_type": "code",
   "execution_count": 24,
   "metadata": {},
   "outputs": [
    {
     "data": {
      "text/plain": [
       "'Out of Range'"
      ]
     },
     "execution_count": 24,
     "metadata": {},
     "output_type": "execute_result"
    }
   ],
   "source": [
    "#Example 3\n",
    "nums = []\n",
    "move_zeroes2(nums)"
   ]
  },
  {
   "attachments": {},
   "cell_type": "markdown",
   "metadata": {},
   "source": []
  }
 ],
 "metadata": {
  "kernelspec": {
   "display_name": "base",
   "language": "python",
   "name": "python3"
  },
  "language_info": {
   "codemirror_mode": {
    "name": "ipython",
    "version": 3
   },
   "file_extension": ".py",
   "mimetype": "text/x-python",
   "name": "python",
   "nbconvert_exporter": "python",
   "pygments_lexer": "ipython3",
   "version": "3.10.9"
  },
  "orig_nbformat": 4
 },
 "nbformat": 4,
 "nbformat_minor": 2
}
