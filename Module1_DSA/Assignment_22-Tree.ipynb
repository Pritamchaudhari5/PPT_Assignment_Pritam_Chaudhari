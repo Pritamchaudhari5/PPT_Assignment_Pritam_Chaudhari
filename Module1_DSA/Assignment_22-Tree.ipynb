{
 "cells": [
  {
   "cell_type": "markdown",
   "metadata": {},
   "source": [
    "<aside>\n",
    "💡 Question-1:\n",
    "\n",
    "Given a Binary Tree (Bt), convert it to a Doubly Linked List(DLL). The left and right pointers in nodes are to be used as previous and next pointers respectively in converted DLL. The order of nodes in DLL must be the same as in Inorder for the given Binary Tree. The first node of Inorder traversal (leftmost node in BT) must be the head node of the DLL.\n",
    "\n",
    "Example:\n",
    "\n",
    "![Untitled](https://s3-us-west-2.amazonaws.com/secure.notion-static.com/f9dda6ae-60b9-427b-990f-dc5b3117a5e3/Untitled.png)\n",
    "\n",
    "</aside>\n"
   ]
  },
  {
   "cell_type": "code",
   "execution_count": null,
   "metadata": {},
   "outputs": [],
   "source": [
    "# Solution:\n",
    "\n"
   ]
  },
  {
   "cell_type": "markdown",
   "metadata": {},
   "source": [
    "<aside>\n",
    "💡 Question-2\n",
    "\n",
    "A Given a binary tree, the task is to flip the binary tree towards the right direction that is clockwise. See the below examples to see the transformation.\n",
    "\n",
    "In the flip operation, the leftmost node becomes the root of the flipped tree and its parent becomes its right child and the right sibling becomes its left child and the same should be done for all left most nodes recursively.\n",
    "\n",
    "Example1:\n",
    "\n",
    "![Untitled](https://s3-us-west-2.amazonaws.com/secure.notion-static.com/a5f5bbbe-8607-4f17-9ab4-b31327ffa2d0/Untitled.png)\n",
    "\n",
    "Example2:\n",
    "\n",
    "![Untitled](https://s3-us-west-2.amazonaws.com/secure.notion-static.com/063636b4-9f35-4524-b6d9-c97e30cac510/Untitled.png)\n",
    "\n",
    "</aside>\n",
    "\n"
   ]
  },
  {
   "cell_type": "code",
   "execution_count": null,
   "metadata": {},
   "outputs": [],
   "source": [
    "# Solution:\n",
    "\n"
   ]
  },
  {
   "cell_type": "markdown",
   "metadata": {},
   "source": [
    "<aside>\n",
    "💡 Question-3:\n",
    "\n",
    "Given a binary tree, print all its root-to-leaf paths without using recursion. For example, consider the following Binary Tree.\n",
    "\n",
    "Input:\n",
    "\n",
    "        6\n",
    "     /    \\\n",
    "    3      5\n",
    "  /   \\     \\\n",
    " 2     5     4\n",
    "     /   \\\n",
    "    7     4\n",
    "\n",
    "Output:\n",
    "\n",
    "There are 4 leaves, hence 4 root to leaf paths -\n",
    "  6->3->2\n",
    "  6->3->5->7\n",
    "  6->3->5->4\n",
    "  6->5>4\n",
    "\n",
    "</aside>"
   ]
  },
  {
   "cell_type": "code",
   "execution_count": null,
   "metadata": {},
   "outputs": [],
   "source": [
    "# Solution:\n",
    "\n"
   ]
  },
  {
   "cell_type": "markdown",
   "metadata": {},
   "source": [
    "<aside>\n",
    "💡 Question-4:\n",
    "\n",
    "Given Preorder, Inorder and Postorder traversals of some tree. Write a program to check if they all are of the same tree.\n",
    "\n",
    "**Examples:**\n",
    "\n",
    "Input : \n",
    "\n",
    "        Inorder -> 4 2 5 1 3\n",
    "        Preorder -> 1 2 4 5 3\n",
    "        Postorder -> 4 5 2 3 1\n",
    "Output : \n",
    "\n",
    "Yes\n",
    "Explanation : \n",
    "\n",
    "All of the above three traversals are of\n",
    "the same tree \n",
    "\n",
    "                           1\n",
    "                         /   \\\n",
    "                        2     3\n",
    "                      /   \\\n",
    "                     4     5\n",
    "\n",
    "Input : \n",
    "\n",
    "        Inorder -> 4 2 5 1 3\n",
    "        Preorder -> 1 5 4 2 3\n",
    "        Postorder -> 4 1 2 3 5\n",
    "Output : \n",
    "\n",
    "No\n",
    "\n",
    "</aside>"
   ]
  },
  {
   "cell_type": "code",
   "execution_count": null,
   "metadata": {},
   "outputs": [],
   "source": [
    "# Solution:\n",
    "\n"
   ]
  },
  {
   "cell_type": "markdown",
   "metadata": {},
   "source": []
  }
 ],
 "metadata": {
  "language_info": {
   "name": "python"
  },
  "orig_nbformat": 4
 },
 "nbformat": 4,
 "nbformat_minor": 2
}
