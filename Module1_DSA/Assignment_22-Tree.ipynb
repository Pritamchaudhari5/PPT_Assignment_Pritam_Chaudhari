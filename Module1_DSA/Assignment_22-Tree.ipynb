{
 "cells": [
  {
   "cell_type": "markdown",
   "metadata": {},
   "source": [
    "<aside>\n",
    "💡 Question-1:\n",
    "\n",
    "Given a Binary Tree (Bt), convert it to a Doubly Linked List(DLL). The left and right pointers in nodes are to be used as previous and next pointers respectively in converted DLL. The order of nodes in DLL must be the same as in Inorder for the given Binary Tree. The first node of Inorder traversal (leftmost node in BT) must be the head node of the DLL.\n",
    "\n",
    "Example:\n",
    "\n",
    "![Untitled](https://s3-us-west-2.amazonaws.com/secure.notion-static.com/f9dda6ae-60b9-427b-990f-dc5b3117a5e3/Untitled.png)\n",
    "\n",
    "</aside>\n"
   ]
  },
  {
   "cell_type": "code",
   "execution_count": 1,
   "metadata": {},
   "outputs": [],
   "source": [
    "# Solution:\n",
    "\n",
    "class Node:\n",
    "    def __init__(self, data):\n",
    "        self.data = data\n",
    "        self.left = None\n",
    "        self.right = None\n",
    "        \n",
    "def binary_tree_to_dll(root):\n",
    "    if root is None:\n",
    "        return None\n",
    "    # Helper function to perform inorder traversal\n",
    "    def inorder(node):\n",
    "        nonlocal prev, head\n",
    "        \n",
    "        if node is None:\n",
    "            return\n",
    "        \n",
    "        # Recursively convert left subtree\n",
    "        inorder(node.left)\n",
    "        # Update the links for the doubly linked list\n",
    "        if prev:\n",
    "            prev.right = node\n",
    "            node.left = prev\n",
    "        else:\n",
    "            # First node in inorder traversal, set it as the head of the DLL\n",
    "            head = node\n",
    "            \n",
    "        prev = node\n",
    "        # Recursively convert right subtree\n",
    "        inorder(node.right)\n",
    "        \n",
    "    # Initialize variables\n",
    "    prev = None\n",
    "    head = None\n",
    "    \n",
    "    # Perform inorder traversal to convert the tree to DLL\n",
    "    inorder(root)\n",
    "    return head\n",
    "\n",
    "def print_dll(head):\n",
    "    while head:\n",
    "        print(head.data, end=\" \")\n",
    "        head = head.right\n",
    "    print()\n"
   ]
  },
  {
   "cell_type": "code",
   "execution_count": 2,
   "metadata": {},
   "outputs": [
    {
     "name": "stdout",
     "output_type": "stream",
     "text": [
      "25 12 30 10 36 15 \n"
     ]
    }
   ],
   "source": [
    "# Example usage\n",
    "# Create a binary tree\n",
    "root = Node(10)\n",
    "root.left = Node(12)\n",
    "root.right = Node(15)\n",
    "root.left.left = Node(25)\n",
    "root.left.right = Node(30)\n",
    "root.right.left = Node(36)\n",
    "# Convert binary tree to DLL\n",
    "head = binary_tree_to_dll(root)\n",
    "# Print the DLL\n",
    "print_dll(head)\n"
   ]
  },
  {
   "cell_type": "markdown",
   "metadata": {},
   "source": [
    "<aside>\n",
    "💡 Question-2\n",
    "\n",
    "A Given a binary tree, the task is to flip the binary tree towards the right direction that is clockwise. See the below examples to see the transformation.\n",
    "\n",
    "In the flip operation, the leftmost node becomes the root of the flipped tree and its parent becomes its right child and the right sibling becomes its left child and the same should be done for all left most nodes recursively.\n",
    "\n",
    "Example1:\n",
    "\n",
    "![Untitled](https://s3-us-west-2.amazonaws.com/secure.notion-static.com/a5f5bbbe-8607-4f17-9ab4-b31327ffa2d0/Untitled.png)\n",
    "\n",
    "Example2:\n",
    "\n",
    "![Untitled](https://s3-us-west-2.amazonaws.com/secure.notion-static.com/063636b4-9f35-4524-b6d9-c97e30cac510/Untitled.png)\n",
    "\n",
    "</aside>\n",
    "\n"
   ]
  },
  {
   "cell_type": "code",
   "execution_count": 3,
   "metadata": {},
   "outputs": [
    {
     "name": "stdout",
     "output_type": "stream",
     "text": [
      "Original Tree:\n",
      "4 2 5 1 3 \n",
      "Flipped Tree:\n",
      "5 4 3 2 1 "
     ]
    }
   ],
   "source": [
    "# Solution:\n",
    "\n",
    "class Node:\n",
    "    def __init__(self, data):\n",
    "        self.data = data\n",
    "        self.left = None\n",
    "        self.right = None\n",
    "        \n",
    "def flipBinaryTree(root):\n",
    "    if root is None or (root.left is None and root.right is None):\n",
    "        # Base case: empty tree or leaf node\n",
    "        return root\n",
    "    flippedLeft = flipBinaryTree(root.left)\n",
    "    root.left.left = root.right\n",
    "    root.left.right = root\n",
    "    root.left = None\n",
    "    root.right = None\n",
    "    \n",
    "    return flippedLeft\n",
    "\n",
    "# Example 1\n",
    "# Create the binary tree\n",
    "root = Node(1)\n",
    "root.left = Node(2)\n",
    "root.right = Node(3)\n",
    "root.left.left = Node(4)\n",
    "root.left.right = Node(5)\n",
    "# Print the original tree\n",
    "print(\"Original Tree:\")\n",
    "\n",
    "\n",
    "# Perform an in-order traversal to print the tree\n",
    "def inorderTraversal(node):\n",
    "    if node is None:\n",
    "        return\n",
    "    inorderTraversal(node.left)\n",
    "    \n",
    "    print(node.data, end=\" \")\n",
    "    inorderTraversal(node.right)\n",
    "inorderTraversal(root)\n",
    "print()\n",
    "\n",
    "\n",
    "# Flip the binary tree\n",
    "flippedRoot = flipBinaryTree(root)\n",
    "\n",
    "# Print the flipped tree\n",
    "print(\"Flipped Tree:\")\n",
    "inorderTraversal(flippedRoot)"
   ]
  },
  {
   "cell_type": "markdown",
   "metadata": {},
   "source": [
    "<aside>\n",
    "💡 Question-3:\n",
    "\n",
    "Given a binary tree, print all its root-to-leaf paths without using recursion. For example, consider the following Binary Tree.\n",
    "\n",
    "Input:\n",
    "\n",
    "        6\n",
    "     /    \\\n",
    "    3      5\n",
    "  /   \\     \\\n",
    " 2     5     4\n",
    "     /   \\\n",
    "    7     4\n",
    "\n",
    "Output:\n",
    "\n",
    "There are 4 leaves, hence 4 root to leaf paths -\n",
    "  6->3->2\n",
    "  6->3->5->7\n",
    "  6->3->5->4\n",
    "  6->5>4\n",
    "\n",
    "</aside>"
   ]
  },
  {
   "cell_type": "code",
   "execution_count": 5,
   "metadata": {},
   "outputs": [],
   "source": [
    "class Node:\n",
    "    def __init__(self, data):\n",
    "        self.data = data\n",
    "\n",
    "        self.left = None\n",
    "        self.right = None\n",
    "    \n",
    "def printRootToLeafPaths(root):\n",
    "    if root is None:\n",
    "        return\n",
    "    stack = [(root, str(root.data))] # stack to perform iterative traversal\n",
    "    paths = [] # store the paths\n",
    "    \n",
    "    while stack:\n",
    "        node, path = stack.pop()\n",
    "        \n",
    "        if node.left is None and node.right is None:\n",
    "            # leaf node, add the path to the list\n",
    "            paths.append(path)\n",
    "            \n",
    "        if node.right is not None:\n",
    "            stack.append((node.right, path + \"->\" + str(node.right.data)))\n",
    "        \n",
    "        if node.left is not None:\n",
    "            stack.append((node.left, path + \"->\" + str(node.left.data)))\n",
    "        # Print the paths\n",
    "    for path in paths:\n",
    "        print(path)"
   ]
  },
  {
   "cell_type": "code",
   "execution_count": 6,
   "metadata": {},
   "outputs": [
    {
     "name": "stdout",
     "output_type": "stream",
     "text": [
      "6->3->2\n",
      "6->3->5->7\n",
      "6->3->5->4\n",
      "6->5->4\n"
     ]
    }
   ],
   "source": [
    "# Example usage\n",
    "# Create the binary tree\n",
    "root = Node(6)\n",
    "root.left = Node(3)\n",
    "root.right = Node(5)\n",
    "root.left.left = Node(2)\n",
    "root.left.right = Node(5)\n",
    "root.right.right = Node(4)\n",
    "root.left.right.left = Node(7)\n",
    "root.left.right.right = Node(4)\n",
    "# Print all root-to-leaf paths\n",
    "printRootToLeafPaths(root)"
   ]
  },
  {
   "cell_type": "markdown",
   "metadata": {},
   "source": [
    "<aside>\n",
    "💡 Question-4:\n",
    "\n",
    "Given Preorder, Inorder and Postorder traversals of some tree. Write a program to check if they all are of the same tree.\n",
    "\n",
    "**Examples:**\n",
    "\n",
    "Input : \n",
    "\n",
    "        Inorder -> 4 2 5 1 3\n",
    "        Preorder -> 1 2 4 5 3\n",
    "        Postorder -> 4 5 2 3 1\n",
    "Output : \n",
    "\n",
    "Yes\n",
    "Explanation : \n",
    "\n",
    "All of the above three traversals are of\n",
    "the same tree \n",
    "\n",
    "                           1\n",
    "                         /   \\\n",
    "                        2     3\n",
    "                      /   \\\n",
    "                     4     5\n",
    "\n",
    "Input : \n",
    "\n",
    "        Inorder -> 4 2 5 1 3\n",
    "        Preorder -> 1 5 4 2 3\n",
    "        Postorder -> 4 1 2 3 5\n",
    "Output : \n",
    "\n",
    "No\n",
    "\n",
    "</aside>"
   ]
  },
  {
   "cell_type": "code",
   "execution_count": 7,
   "metadata": {},
   "outputs": [],
   "source": [
    "# Solution:\n",
    "\n",
    "def areTraversalsSame(inorder, preorder, postorder):\n",
    "    if not inorder or not preorder or not postorder:\n",
    "        return False\n",
    "    \n",
    "    if len(inorder) == 1 and len(preorder) == 1 and len(postorder) == 1:\n",
    "        return inorder[0] == preorder[0] == postorder[0]\n",
    "    \n",
    "    root = preorder[0]\n",
    "    rootIndex = inorder.index(root)\n",
    "    \n",
    "    leftInorder = inorder[:rootIndex]\n",
    "    rightInorder = inorder[rootIndex + 1:]\n",
    "    \n",
    "    leftPreorder = preorder[1:rootIndex + 1]\n",
    "    rightPreorder = preorder[rootIndex + 1:]\n",
    "    \n",
    "    leftPostorder = postorder[:rootIndex]\n",
    "    rightPostorder = postorder[rootIndex:-1]\n",
    "    \n",
    "    leftSame = areTraversalsSame(leftInorder, leftPreorder, leftPostorder)\n",
    "    rightSame = areTraversalsSame(rightInorder, rightPreorder, rightPostorder)\n",
    "    \n",
    "    return leftSame and rightSame and (root == postorder[-1])"
   ]
  },
  {
   "cell_type": "code",
   "execution_count": 8,
   "metadata": {},
   "outputs": [
    {
     "name": "stdout",
     "output_type": "stream",
     "text": [
      "Yes\n"
     ]
    }
   ],
   "source": [
    "# Example usage\n",
    "inorder = [4, 2, 5, 1, 3]\n",
    "preorder = [1, 2, 4, 5, 3]\n",
    "postorder = [4, 5, 2, 3, 1]\n",
    "if areTraversalsSame(inorder, preorder, postorder):\n",
    "    print(\"Yes\")\n",
    "else:\n",
    "    print(\"No\")"
   ]
  },
  {
   "cell_type": "code",
   "execution_count": 9,
   "metadata": {},
   "outputs": [
    {
     "name": "stdout",
     "output_type": "stream",
     "text": [
      "No\n"
     ]
    }
   ],
   "source": [
    "# Example usage\n",
    "inorder = [4, 2, 5, 1, 3]\n",
    "preorder = [1, 5, 4, 2, 3]\n",
    "postorder = [4, 1, 2, 3, 5]\n",
    "if areTraversalsSame(inorder, preorder, postorder):\n",
    "    print(\"Yes\")\n",
    "else:\n",
    "    print(\"No\")\n"
   ]
  },
  {
   "cell_type": "markdown",
   "metadata": {},
   "source": []
  }
 ],
 "metadata": {
  "kernelspec": {
   "display_name": "base",
   "language": "python",
   "name": "python3"
  },
  "language_info": {
   "codemirror_mode": {
    "name": "ipython",
    "version": 3
   },
   "file_extension": ".py",
   "mimetype": "text/x-python",
   "name": "python",
   "nbconvert_exporter": "python",
   "pygments_lexer": "ipython3",
   "version": "3.10.9"
  },
  "orig_nbformat": 4
 },
 "nbformat": 4,
 "nbformat_minor": 2
}
