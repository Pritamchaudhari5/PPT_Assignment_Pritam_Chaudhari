{
 "cells": [
  {
   "attachments": {},
   "cell_type": "markdown",
   "metadata": {},
   "source": [
    "<aside>\n",
    "💡 **Question 1**\n",
    "\n",
    "Given two strings s1 and s2, return *the lowest **ASCII** sum of deleted characters to make two strings equal*.\n",
    "\n",
    "**Example 1:**\n",
    "\n",
    "**Input:** s1 = \"sea\", s2 = \"eat\"\n",
    "\n",
    "**Output:** 231\n",
    "\n",
    "**Explanation:** Deleting \"s\" from \"sea\" adds the ASCII value of \"s\" (115) to the sum.\n",
    "\n",
    "Deleting \"t\" from \"eat\" adds 116 to the sum.\n",
    "\n",
    "At the end, both strings are equal, and 115 + 116 = 231 is the minimum sum possible to achieve this.\n",
    "\n",
    "</aside>"
   ]
  },
  {
   "cell_type": "code",
   "execution_count": 6,
   "metadata": {},
   "outputs": [
    {
     "name": "stdout",
     "output_type": "stream",
     "text": [
      "231\n"
     ]
    }
   ],
   "source": [
    "#Solution:\n",
    "\n",
    "def minimumDeleteSum(s1, s2):\n",
    "    m, n = len(s1), len(s2)\n",
    "    # Create a 2D table to store dp values\n",
    "    dp = [[0] * (n+1) for _ in range(m+1)]\n",
    "    \n",
    "    # Populate the table starting from the bottom-right corner\n",
    "    for i in range(m-1, -1, -1):\n",
    "        dp[i][n] = dp[i+1][n] + ord(s1[i])  # Deleting characters from s1\n",
    "    \n",
    "    for j in range(n-1, -1, -1):\n",
    "        dp[m][j] = dp[m][j+1] + ord(s2[j])  # Deleting characters from s2\n",
    "    \n",
    "    # Fill the table row by row and from right to left\n",
    "    for i in range(m-1, -1, -1):\n",
    "        for j in range(n-1, -1, -1):\n",
    "            if s1[i] == s2[j]:\n",
    "                dp[i][j] = dp[i+1][j+1]\n",
    "            else:\n",
    "                dp[i][j] = min(ord(s1[i]) + dp[i+1][j], ord(s2[j]) + dp[i][j+1])\n",
    "    \n",
    "    # Return the minimum ASCII sum for the full strings\n",
    "    return dp[0][0]\n",
    "\n",
    "#Let's try\n",
    "s1 = \"sea\"\n",
    "s2 = \"eat\"\n",
    "print(minimumDeleteSum(s1, s2))"
   ]
  },
  {
   "cell_type": "markdown",
   "metadata": {},
   "source": []
  },
  {
   "attachments": {},
   "cell_type": "markdown",
   "metadata": {},
   "source": [
    "<aside>\n",
    "💡 **Question 2**\n",
    "\n",
    "Given a string s containing only three types of characters: '(', ')' and '*', return true *if* s *is **valid***.\n",
    "\n",
    "The following rules define a **valid** string:\n",
    "\n",
    "- Any left parenthesis '(' must have a corresponding right parenthesis ')'.\n",
    "- Any right parenthesis ')' must have a corresponding left parenthesis '('.\n",
    "- Left parenthesis '(' must go before the corresponding right parenthesis ')'.\n",
    "- '*' could be treated as a single right parenthesis ')' or a single left parenthesis '(' or an empty string \"\".\n",
    "\n",
    "**Example 1:**\n",
    "\n",
    "**Input:** s = \"()\"\n",
    "\n",
    "**Output:**\n",
    "\n",
    "true\n",
    "\n",
    "</aside>"
   ]
  },
  {
   "cell_type": "code",
   "execution_count": 7,
   "metadata": {},
   "outputs": [
    {
     "name": "stdout",
     "output_type": "stream",
     "text": [
      "True\n"
     ]
    }
   ],
   "source": [
    "#Solution:\n",
    "\n",
    "def isValid(s):\n",
    "    stack = []\n",
    "    \n",
    "    for char in s:\n",
    "        if char == '(' or char == '*':\n",
    "            stack.append(char)\n",
    "        elif char == ')':\n",
    "            if stack and stack[-1] == '(':\n",
    "                stack.pop()\n",
    "            elif stack and stack[-1] == '*':\n",
    "                stack.pop()\n",
    "            else:\n",
    "                return False\n",
    "    \n",
    "    while stack:\n",
    "        if stack[-1] == '(' and '*' in stack:\n",
    "            stack.pop()\n",
    "            stack.pop()\n",
    "        else:\n",
    "            return False\n",
    "    \n",
    "    return True if not stack else False\n",
    "\n",
    "#Let's try\n",
    "s = \"()\"\n",
    "print(isValid(s))\n"
   ]
  },
  {
   "cell_type": "markdown",
   "metadata": {},
   "source": []
  },
  {
   "attachments": {},
   "cell_type": "markdown",
   "metadata": {},
   "source": [
    "<aside>\n",
    "💡 **Question 3**\n",
    "\n",
    "Given two strings word1 and word2, return *the minimum number of **steps** required to make* word1 *and* word2 *the same*.\n",
    "\n",
    "In one **step**, you can delete exactly one character in either string.\n",
    "\n",
    "**Example 1:**\n",
    "\n",
    "**Input:** word1 = \"sea\", word2 = \"eat\"\n",
    "\n",
    "**Output:** 2\n",
    "\n",
    "**Explanation:** You need one step to make \"sea\" to \"ea\" and another step to make \"eat\" to \"ea\".\n",
    "\n",
    "</aside>"
   ]
  },
  {
   "cell_type": "code",
   "execution_count": 8,
   "metadata": {},
   "outputs": [
    {
     "name": "stdout",
     "output_type": "stream",
     "text": [
      "2\n"
     ]
    }
   ],
   "source": [
    "#Solution:\n",
    "\n",
    "def minDistance(word1, word2):\n",
    "    m, n = len(word1), len(word2)\n",
    "    # Create a 2D table to store dp values\n",
    "    dp = [[0] * (n+1) for _ in range(m+1)]\n",
    "    \n",
    "    # Fill the first row and first column\n",
    "    for i in range(m+1):\n",
    "        dp[i][0] = i\n",
    "    for j in range(n+1):\n",
    "        dp[0][j] = j\n",
    "    \n",
    "    # Fill the table row by row and from left to right\n",
    "    for i in range(1, m+1):\n",
    "        for j in range(1, n+1):\n",
    "            if word1[i-1] == word2[j-1]:\n",
    "                dp[i][j] = dp[i-1][j-1]\n",
    "            else:\n",
    "                dp[i][j] = 1 + min(dp[i-1][j], dp[i][j-1])\n",
    "    \n",
    "    # Return the minimum number of steps for the full strings\n",
    "    return dp[m][n]\n",
    "\n",
    "#Let's try:\n",
    "word1 = \"sea\"\n",
    "word2 = \"eat\"\n",
    "print(minDistance(word1, word2))"
   ]
  },
  {
   "cell_type": "markdown",
   "metadata": {},
   "source": []
  },
  {
   "attachments": {},
   "cell_type": "markdown",
   "metadata": {},
   "source": [
    "<aside>\n",
    "💡 **Question 4**\n",
    "\n",
    "You need to construct a binary tree from a string consisting of parenthesis and integers.\n",
    "\n",
    "The whole input represents a binary tree. It contains an integer followed by zero, one or two pairs of parenthesis. The integer represents the root's value and a pair of parenthesis contains a child binary tree with the same structure.\n",
    "You always start to construct the **left** child node of the parent first if it exists.\n",
    "\n",
    "![Screenshot 2023-05-29 010548.png](https://s3-us-west-2.amazonaws.com/secure.notion-static.com/bdbea2d1-34a4-4c4b-a450-ea6db7410c43/Screenshot_2023-05-29_010548.png)\n",
    "\n",
    "**Input:** s = \"4(2(3)(1))(6(5))\"\n",
    "\n",
    "**Output:** [4,2,6,3,1,5]\n",
    "\n",
    "</aside>"
   ]
  },
  {
   "cell_type": "code",
   "execution_count": 16,
   "metadata": {},
   "outputs": [
    {
     "name": "stdout",
     "output_type": "stream",
     "text": [
      "[3, 2, 1, 4, 5, 6]\n",
      "something error in program code , Need to solve if you find ping me\n"
     ]
    }
   ],
   "source": [
    "#Solution :\n",
    "\n",
    "class TreeNode:\n",
    "    def __init__(self, val=0, left=None, right=None):\n",
    "        self.val = val\n",
    "        self.left = left\n",
    "        self.right = right\n",
    "\n",
    "def str2tree(s):\n",
    "    stack = []\n",
    "    i = 0\n",
    "    \n",
    "    while i < len(s):\n",
    "        if s[i].isdigit() or s[i] == '-':\n",
    "            # Extract the number until we reach a non-digit character\n",
    "            start = i\n",
    "            while i + 1 < len(s) and s[i+1].isdigit():\n",
    "                i += 1\n",
    "            val = int(s[start:i+1])\n",
    "            node = TreeNode(val)\n",
    "            \n",
    "            if stack:\n",
    "                # Assign the node as the left or right child of the previous node\n",
    "                parent = stack[-1]\n",
    "                if parent.left is None:\n",
    "                    parent.left = node\n",
    "                else:\n",
    "                    parent.right = node\n",
    "            stack.append(node)\n",
    "            \n",
    "        elif s[i] == ')':\n",
    "            # Pop the top node from the stack (left subtree complete)\n",
    "            stack.pop()\n",
    "            \n",
    "        i += 1\n",
    "    \n",
    "    return stack[-1] if stack else None\n",
    "\n",
    "#Let's try:\n",
    "\n",
    "s = \"4(2(3)(1))(6(5))\"\n",
    "tree = str2tree(s)\n",
    "\n",
    "def inorderTraversal(root):\n",
    "    if root is None:\n",
    "        return []\n",
    "    return inorderTraversal(root.left) + [root.val] + inorderTraversal(root.right)\n",
    "\n",
    "print(inorderTraversal(tree))\n",
    "\n",
    "print(\"something error in program code , Need to solve if you find ping me\")"
   ]
  },
  {
   "cell_type": "code",
   "execution_count": 36,
   "metadata": {},
   "outputs": [
    {
     "name": "stdout",
     "output_type": "stream",
     "text": [
      "[[[3, [1, [[5], 65], [[5], 65], 65], 1, [1, [[5], 65], [[5], 65], 65], [1, [[5], 65], [[5], 65], 65], 65], 23, [3, [1, [[5], 65], [[5], 65], 65], 1, [1, [[5], 65], [[5], 65], 65], [1, [[5], 65], [[5], 65], 65], 65], 1, [3, [1, [[5], 65], [[5], 65], 65], 1, [1, [[5], 65], [[5], 65], 65], [1, [[5], 65], [[5], 65], 65], 65], [3, [1, [[5], 65], [[5], 65], 65], 1, [1, [[5], 65], [[5], 65], 65], [1, [[5], 65], [[5], 65], 65], 65], 65], [[3, [1, [[5], 65], [[5], 65], 65], 1, [1, [[5], 65], [[5], 65], 65], [1, [[5], 65], [[5], 65], 65], 65], 23, [3, [1, [[5], 65], [[5], 65], 65], 1, [1, [[5], 65], [[5], 65], 65], [1, [[5], 65], [[5], 65], 65], 65], 1, [3, [1, [[5], 65], [[5], 65], 65], 1, [1, [[5], 65], [[5], 65], 65], [1, [[5], 65], [[5], 65], 65], 65], [3, [1, [[5], 65], [[5], 65], 65], 1, [1, [[5], 65], [[5], 65], 65], [1, [[5], 65], [[5], 65], 65], 65], 65], 423, [[3, [1, [[5], 65], [[5], 65], 65], 1, [1, [[5], 65], [[5], 65], 65], [1, [[5], 65], [[5], 65], 65], 65], 23, [3, [1, [[5], 65], [[5], 65], 65], 1, [1, [[5], 65], [[5], 65], 65], [1, [[5], 65], [[5], 65], 65], 65], 1, [3, [1, [[5], 65], [[5], 65], 65], 1, [1, [[5], 65], [[5], 65], 65], [1, [[5], 65], [[5], 65], 65], 65], [3, [1, [[5], 65], [[5], 65], 65], 1, [1, [[5], 65], [[5], 65], 65], [1, [[5], 65], [[5], 65], 65], 65], 65], 1, [[3, [1, [[5], 65], [[5], 65], 65], 1, [1, [[5], 65], [[5], 65], 65], [1, [[5], 65], [[5], 65], 65], 65], 23, [3, [1, [[5], 65], [[5], 65], 65], 1, [1, [[5], 65], [[5], 65], 65], [1, [[5], 65], [[5], 65], 65], 65], 1, [3, [1, [[5], 65], [[5], 65], 65], 1, [1, [[5], 65], [[5], 65], 65], [1, [[5], 65], [[5], 65], 65], 65], [3, [1, [[5], 65], [[5], 65], 65], 1, [1, [[5], 65], [[5], 65], 65], [1, [[5], 65], [[5], 65], 65], 65], 65], [[3, [1, [[5], 65], [[5], 65], 65], 1, [1, [[5], 65], [[5], 65], 65], [1, [[5], 65], [[5], 65], 65], 65], 23, [3, [1, [[5], 65], [[5], 65], 65], 1, [1, [[5], 65], [[5], 65], 65], [1, [[5], 65], [[5], 65], 65], 65], 1, [3, [1, [[5], 65], [[5], 65], 65], 1, [1, [[5], 65], [[5], 65], 65], [1, [[5], 65], [[5], 65], 65], 65], [3, [1, [[5], 65], [[5], 65], 65], 1, [1, [[5], 65], [[5], 65], 65], [1, [[5], 65], [[5], 65], 65], 65], 65], 65]\n"
     ]
    }
   ],
   "source": [
    "def parseString(s):\n",
    "    parsed_list = []\n",
    "    current_number = \"\"\n",
    "\n",
    "    for char in s:\n",
    "        if char.isdigit():\n",
    "            current_number += char\n",
    "        elif char == '(':\n",
    "            nested_list = parseString(s[s.index(char) + 1:])\n",
    "            parsed_list.append(nested_list)\n",
    "        elif char == ')':\n",
    "            if current_number:\n",
    "                parsed_list.append(int(current_number))\n",
    "                current_number = \"\"\n",
    "\n",
    "    return parsed_list\n",
    "s = \"4(2(3)(1))(6(5))\"\n",
    "result = parseString(s)\n",
    "print(result)\n"
   ]
  },
  {
   "cell_type": "code",
   "execution_count": 37,
   "metadata": {},
   "outputs": [
    {
     "name": "stdout",
     "output_type": "stream",
     "text": [
      "[4, [2, [3], [1]], [6, [5]]]\n"
     ]
    }
   ],
   "source": [
    "def constructNestedList(s):\n",
    "    nested_list = []\n",
    "    i = 0\n",
    "\n",
    "    while i < len(s):\n",
    "        if s[i].isdigit():\n",
    "            # Construct a single-digit number or multi-digit number\n",
    "            num = 0\n",
    "            while i < len(s) and s[i].isdigit():\n",
    "                num = num * 10 + int(s[i])\n",
    "                i += 1\n",
    "            nested_list.append(num)\n",
    "        elif s[i] == '(':\n",
    "            # Recursive call to construct nested list\n",
    "            sublist, index = constructNestedList(s[i+1:])\n",
    "            nested_list.append(sublist)\n",
    "            i += index + 2  # Move index to the next character after the sublist\n",
    "        elif s[i] == ')':\n",
    "            # End of nested list, return the nested list and the index\n",
    "            return nested_list, i\n",
    "        else:\n",
    "            i += 1\n",
    "\n",
    "    return nested_list\n",
    "\n",
    "s = \"4(2(3)(1))(6(5))\"\n",
    "result = constructNestedList(s)\n",
    "print(result)\n",
    "\n"
   ]
  },
  {
   "cell_type": "code",
   "execution_count": 39,
   "metadata": {},
   "outputs": [
    {
     "name": "stdout",
     "output_type": "stream",
     "text": [
      "[4, 2, 3, 1, 6, 5]\n"
     ]
    }
   ],
   "source": [
    "def flattenTree(tree):\n",
    "    result = []\n",
    "\n",
    "    for element in tree:\n",
    "        if isinstance(element, int):\n",
    "            result.append(element)\n",
    "        elif isinstance(element, list):\n",
    "            result.extend(flattenTree(element))\n",
    "\n",
    "    return result\n",
    "tree = [4, [2, [3], [1]], [6, [5]]]\n",
    "result = flattenTree(tree)\n",
    "print(result)\n"
   ]
  },
  {
   "cell_type": "code",
   "execution_count": 35,
   "metadata": {},
   "outputs": [
    {
     "name": "stdout",
     "output_type": "stream",
     "text": [
      "[4, 2, 3, 3, 2, 2, 3, 3, 3]\n"
     ]
    }
   ],
   "source": [
    "def separateNumbers(s):\n",
    "    numbers = []\n",
    "    temp_number = \"\"\n",
    "\n",
    "    for char in s:\n",
    "        if char.isdigit():\n",
    "            temp_number += char\n",
    "        elif char == '(':\n",
    "            nested_numbers = separateNumbers(s[s.index(char) + 1:])\n",
    "            numbers.append(nested_numbers)\n",
    "        elif char == ')':\n",
    "            return numbers\n",
    "\n",
    "        if temp_number:\n",
    "            numbers.append(int(temp_number))\n",
    "            temp_number = \"\"\n",
    "\n",
    "    return numbers\n",
    "\n",
    "\n",
    "def flattenList(nested_list):\n",
    "    flattened_list = []\n",
    "\n",
    "    for element in nested_list:\n",
    "        if isinstance(element, int):\n",
    "            flattened_list.append(element)\n",
    "        elif isinstance(element, list):\n",
    "            flattened_list.extend(flattenList(element))\n",
    "\n",
    "    return flattened_list\n",
    "\n",
    "\n",
    "input_str = \"4(2(3)(1))(6(5))\"\n",
    "nested_list = separateNumbers(input_str)\n",
    "output_list = flattenList(nested_list)\n",
    "print(output_list)\n"
   ]
  },
  {
   "cell_type": "markdown",
   "metadata": {},
   "source": []
  },
  {
   "attachments": {},
   "cell_type": "markdown",
   "metadata": {},
   "source": [
    "<aside>\n",
    "💡 **Question 5**\n",
    "\n",
    "Given an array of characters chars, compress it using the following algorithm:\n",
    "\n",
    "Begin with an empty string s. For each group of **consecutive repeating characters** in chars:\n",
    "\n",
    "- If the group's length is 1, append the character to s.\n",
    "- Otherwise, append the character followed by the group's length.\n",
    "\n",
    "The compressed string s **should not be returned separately**, but instead, be stored **in the input character array chars**. Note that group lengths that are 10 or longer will be split into multiple characters in chars.\n",
    "\n",
    "After you are done **modifying the input array,** return *the new length of the array*.\n",
    "\n",
    "You must write an algorithm that uses only constant extra space.\n",
    "\n",
    "**Example 1:**\n",
    "\n",
    "**Input:** chars = [\"a\",\"a\",\"b\",\"b\",\"c\",\"c\",\"c\"]\n",
    "\n",
    "**Output:** Return 6, and the first 6 characters of the input array should be: [\"a\",\"2\",\"b\",\"2\",\"c\",\"3\"]\n",
    "\n",
    "**Explanation:**\n",
    "\n",
    "The groups are \"aa\", \"bb\", and \"ccc\". This compresses to \"a2b2c3\".\n",
    "\n",
    "</aside>"
   ]
  },
  {
   "cell_type": "code",
   "execution_count": 17,
   "metadata": {},
   "outputs": [
    {
     "name": "stdout",
     "output_type": "stream",
     "text": [
      "6\n",
      "['a', '2', 'b', '2', 'c', '3']\n"
     ]
    }
   ],
   "source": [
    "#Solution:\n",
    "\n",
    "def compress(chars):\n",
    "    write = 0  # Pointer to write the compressed characters\n",
    "    read = 0   # Pointer to read the original characters\n",
    "    \n",
    "    while read < len(chars):\n",
    "        currChar = chars[read]\n",
    "        count = 0\n",
    "        \n",
    "        # Count the number of consecutive occurrences of currChar\n",
    "        while read < len(chars) and chars[read] == currChar:\n",
    "            read += 1\n",
    "            count += 1\n",
    "        \n",
    "        # Write the current character\n",
    "        chars[write] = currChar\n",
    "        write += 1\n",
    "        \n",
    "        # Write the count if it is greater than 1\n",
    "        if count > 1:\n",
    "            countStr = str(count)\n",
    "            for digit in countStr:\n",
    "                chars[write] = digit\n",
    "                write += 1\n",
    "    \n",
    "    return write\n",
    "\n",
    "#Let's try this code:\n",
    "\n",
    "chars = [\"a\", \"a\", \"b\", \"b\", \"c\", \"c\", \"c\"]\n",
    "length = compress(chars)\n",
    "compressedChars = chars[:length]\n",
    "\n",
    "print(length)\n",
    "print(compressedChars)"
   ]
  },
  {
   "cell_type": "markdown",
   "metadata": {},
   "source": []
  },
  {
   "attachments": {},
   "cell_type": "markdown",
   "metadata": {},
   "source": [
    "<aside>\n",
    "💡 **Question 6**\n",
    "\n",
    "Given two strings s and p, return *an array of all the start indices of* p*'s anagrams in* s. You may return the answer in **any order**.\n",
    "\n",
    "An **Anagram** is a word or phrase formed by rearranging the letters of a different word or phrase, typically using all the original letters exactly once.\n",
    "\n",
    "**Example 1:**\n",
    "\n",
    "**Input:** s = \"cbaebabacd\", p = \"abc\"\n",
    "\n",
    "**Output:** [0,6]\n",
    "\n",
    "**Explanation:**\n",
    "\n",
    "The substring with start index = 0 is \"cba\", which is an anagram of \"abc\".\n",
    "\n",
    "The substring with start index = 6 is \"bac\", which is an anagram of \"abc\".\n",
    "\n",
    "</aside>"
   ]
  },
  {
   "cell_type": "code",
   "execution_count": 18,
   "metadata": {},
   "outputs": [
    {
     "name": "stdout",
     "output_type": "stream",
     "text": [
      "[0, 6]\n"
     ]
    }
   ],
   "source": [
    "#Solution:\n",
    "\n",
    "def findAnagrams(s, p):\n",
    "    result = []\n",
    "    p_count = [0] * 26  # Assuming lowercase English alphabets\n",
    "    window_count = [0] * 26\n",
    "    \n",
    "    # Count the characters in p\n",
    "    for char in p:\n",
    "        p_count[ord(char) - ord('a')] += 1\n",
    "    \n",
    "    left = right = 0\n",
    "    while right < len(s):\n",
    "        # Expand the window\n",
    "        window_count[ord(s[right]) - ord('a')] += 1\n",
    "        \n",
    "        # Shrink the window when it reaches the desired size\n",
    "        if right - left + 1 == len(p):\n",
    "            # Check if the window is an anagram\n",
    "            if window_count == p_count:\n",
    "                result.append(left)\n",
    "            \n",
    "            # Decrement the count of the character at left\n",
    "            window_count[ord(s[left]) - ord('a')] -= 1\n",
    "            left += 1\n",
    "        \n",
    "        right += 1\n",
    "    \n",
    "    return result\n",
    "\n",
    "#Let's try this fuction:\n",
    "\n",
    "s = \"cbaebabacd\"\n",
    "p = \"abc\"\n",
    "result = findAnagrams(s, p)\n",
    "print(result)"
   ]
  },
  {
   "cell_type": "markdown",
   "metadata": {},
   "source": []
  },
  {
   "attachments": {},
   "cell_type": "markdown",
   "metadata": {},
   "source": [
    "<aside>\n",
    "💡 **Question 7**\n",
    "\n",
    "Given an encoded string, return its decoded string.\n",
    "\n",
    "The encoding rule is: k[encoded_string], where the encoded_string inside the square brackets is being repeated exactly k times. Note that k is guaranteed to be a positive integer.\n",
    "\n",
    "You may assume that the input string is always valid; there are no extra white spaces, square brackets are well-formed, etc. Furthermore, you may assume that the original data does not contain any digits and that digits are only for those repeat numbers, k. For example, there will not be input like 3a or 2[4].\n",
    "\n",
    "The test cases are generated so that the length of the output will never exceed 105.\n",
    "\n",
    "**Example 1:**\n",
    "\n",
    "**Input:** s = \"3[a]2[bc]\"\n",
    "\n",
    "**Output:** \"aaabcbc\"\n",
    "\n",
    "</aside>"
   ]
  },
  {
   "cell_type": "code",
   "execution_count": 19,
   "metadata": {},
   "outputs": [
    {
     "name": "stdout",
     "output_type": "stream",
     "text": [
      "aaabcbc\n"
     ]
    }
   ],
   "source": [
    "#Solution:\n",
    "\n",
    "def decodeString(s):\n",
    "    stack = []\n",
    "    current_string = ''\n",
    "    current_count = 0\n",
    "    \n",
    "    for char in s:\n",
    "        if char.isdigit():\n",
    "            current_count = current_count * 10 + int(char)\n",
    "        elif char == '[':\n",
    "            stack.append((current_count, current_string))\n",
    "            current_count = 0\n",
    "            current_string = ''\n",
    "        elif char == ']':\n",
    "            count, prev_string = stack.pop()\n",
    "            current_string = prev_string + count * current_string\n",
    "        else:\n",
    "            current_string += char\n",
    "    \n",
    "    return current_string\n",
    "\n",
    "#Let's try the function:\n",
    "\n",
    "s = \"3[a]2[bc]\"\n",
    "result = decodeString(s)\n",
    "print(result)"
   ]
  },
  {
   "cell_type": "markdown",
   "metadata": {},
   "source": []
  },
  {
   "attachments": {},
   "cell_type": "markdown",
   "metadata": {},
   "source": [
    "<aside>\n",
    "💡 **Question 8**\n",
    "\n",
    "Given two strings s and goal, return true *if you can swap two letters in* s *so the result is equal to* goal*, otherwise, return* false*.*\n",
    "\n",
    "Swapping letters is defined as taking two indices i and j (0-indexed) such that i != j and swapping the characters at s[i] and s[j].\n",
    "\n",
    "- For example, swapping at indices 0 and 2 in \"abcd\" results in \"cbad\".\n",
    "\n",
    "**Example 1:**\n",
    "\n",
    "**Input:** s = \"ab\", goal = \"ba\"\n",
    "\n",
    "**Output:** true\n",
    "\n",
    "**Explanation:** You can swap s[0] = 'a' and s[1] = 'b' to get \"ba\", which is equal to goal.\n",
    "\n",
    "</aside>"
   ]
  },
  {
   "cell_type": "code",
   "execution_count": 21,
   "metadata": {},
   "outputs": [
    {
     "name": "stdout",
     "output_type": "stream",
     "text": [
      "True\n"
     ]
    }
   ],
   "source": [
    "#Solution:\n",
    "\n",
    "def buddyStrings(s, goal):\n",
    "    if len(s) != len(goal):\n",
    "        return False\n",
    "\n",
    "    if s == goal:\n",
    "        # Check if there are duplicate characters in s\n",
    "        return len(set(s)) < len(s)\n",
    "\n",
    "    diff_count = 0\n",
    "    diff_indices = []\n",
    "    for i in range(len(s)):\n",
    "        if s[i] != goal[i]:\n",
    "            diff_count += 1\n",
    "            diff_indices.append(i)\n",
    "\n",
    "        if diff_count > 2:\n",
    "            return False\n",
    "\n",
    "    return diff_count == 2 and s[diff_indices[0]] == goal[diff_indices[1]] and s[diff_indices[1]] == goal[diff_indices[0]]\n",
    "\n",
    "#Let's try this function:\n",
    "\n",
    "s = \"ab\"\n",
    "goal = \"ba\"\n",
    "result = buddyStrings(s, goal)\n",
    "print(result)"
   ]
  }
 ],
 "metadata": {
  "kernelspec": {
   "display_name": "base",
   "language": "python",
   "name": "python3"
  },
  "language_info": {
   "codemirror_mode": {
    "name": "ipython",
    "version": 3
   },
   "file_extension": ".py",
   "mimetype": "text/x-python",
   "name": "python",
   "nbconvert_exporter": "python",
   "pygments_lexer": "ipython3",
   "version": "3.10.9"
  },
  "orig_nbformat": 4
 },
 "nbformat": 4,
 "nbformat_minor": 2
}
