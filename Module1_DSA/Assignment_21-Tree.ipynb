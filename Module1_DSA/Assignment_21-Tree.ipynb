{
 "cells": [
  {
   "cell_type": "markdown",
   "metadata": {},
   "source": [
    "<aside>\n",
    "💡 Question-1\n",
    "\n",
    "You are given a binary tree. The binary tree is represented using the TreeNode class. Each TreeNode has an integer value and left and right children, represented using the TreeNode class itself. Convert this binary tree into a binary search tree.\n",
    "\n",
    "Input:\n",
    "\n",
    "        10\n",
    "\n",
    "       /   \\\n",
    "\n",
    "     2      7\n",
    "\n",
    "   /   \\\n",
    "\n",
    " 8      4\n",
    "\n",
    "Output:\n",
    "\n",
    "        8\n",
    "\n",
    "      /   \\\n",
    "\n",
    "    4     10\n",
    "\n",
    "  /   \\\n",
    "\n",
    "2      7\n",
    "\n",
    "</aside>"
   ]
  },
  {
   "cell_type": "code",
   "execution_count": null,
   "metadata": {},
   "outputs": [],
   "source": [
    "# Solution:\n",
    "\n"
   ]
  },
  {
   "cell_type": "markdown",
   "metadata": {},
   "source": [
    "<aside>\n",
    "💡 Question-2:\n",
    "\n",
    "Given a Binary Search Tree with all unique values and two keys. Find the distance between two nodes in BST. The given keys always exist in BST.\n",
    "\n",
    "Example:\n",
    "\n",
    "Consider the following BST:\n",
    "\n",
    "![1.png](https://s3-us-west-2.amazonaws.com/secure.notion-static.com/f2455039-7e12-43fc-a7d3-b5be24931c1c/1.png)\n",
    "\n",
    "**Input-1:**\n",
    "\n",
    "n = 9\n",
    "\n",
    "values = [8, 3, 1, 6, 4, 7, 10, 14,13]\n",
    "\n",
    "node-1 = 6\n",
    "\n",
    "node-2 = 14\n",
    "\n",
    "**Output-1:**\n",
    "\n",
    "The distance between the two keys = 4\n",
    "\n",
    "**Input-2:**\n",
    "\n",
    "n = 9\n",
    "\n",
    "values = [8, 3, 1, 6, 4, 7, 10, 14,13]\n",
    "\n",
    "node-1 = 3\n",
    "\n",
    "node-2 = 4\n",
    "\n",
    "**Output-2:**\n",
    "\n",
    "The distance between the two keys = 2\n",
    "\n",
    "</aside>"
   ]
  },
  {
   "cell_type": "code",
   "execution_count": null,
   "metadata": {},
   "outputs": [],
   "source": [
    "# Solution:\n",
    "\n"
   ]
  },
  {
   "cell_type": "markdown",
   "metadata": {},
   "source": [
    "<aside>\n",
    "💡 Question-3:\n",
    "\n",
    "Write a program to convert a binary tree to a doubly linked list.\n",
    "\n",
    "Input:\n",
    "\n",
    "        10\n",
    "\n",
    "       /   \\\n",
    "\n",
    "     5     20\n",
    "\n",
    "           /   \\\n",
    "\n",
    "        30     35\n",
    "\n",
    "Output:\n",
    "\n",
    "5 10 30 20 35\n",
    "\n",
    "</aside>"
   ]
  },
  {
   "cell_type": "code",
   "execution_count": null,
   "metadata": {},
   "outputs": [],
   "source": [
    "# Solution:\n",
    "\n"
   ]
  },
  {
   "cell_type": "markdown",
   "metadata": {},
   "source": [
    "<aside>\n",
    "💡 Question-4:\n",
    "\n",
    "Write a program to connect nodes at the same level.\n",
    "\n",
    "Input:\n",
    "\n",
    "        1\n",
    "\n",
    "      /   \\\n",
    "\n",
    "    2      3\n",
    "\n",
    "  /   \\   /   \\\n",
    "\n",
    "4     5 6    7\n",
    "\n",
    "Output:\n",
    "\n",
    "1 → -1\n",
    "\n",
    "2 → 3\n",
    "\n",
    "3 → -1\n",
    "\n",
    "4 → 5\n",
    "\n",
    "5 → 6\n",
    "\n",
    "6 → 7\n",
    "\n",
    "7 → -1\n",
    "\n",
    "</aside>"
   ]
  },
  {
   "cell_type": "code",
   "execution_count": null,
   "metadata": {},
   "outputs": [],
   "source": [
    "# Solution:\n",
    "\n"
   ]
  },
  {
   "cell_type": "markdown",
   "metadata": {},
   "source": []
  }
 ],
 "metadata": {
  "language_info": {
   "name": "python"
  },
  "orig_nbformat": 4
 },
 "nbformat": 4,
 "nbformat_minor": 2
}
