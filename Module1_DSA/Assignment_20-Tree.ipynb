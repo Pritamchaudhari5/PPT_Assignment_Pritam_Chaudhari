{
 "cells": [
  {
   "cell_type": "markdown",
   "metadata": {},
   "source": [
    "<aside>\n",
    "💡 Question-1\n",
    "\n",
    "Given a binary tree, your task is to find subtree with maximum sum in tree.\n",
    "\n",
    "Examples:\n",
    "\n",
    "Input1 :       \n",
    "\n",
    "       1\n",
    "\n",
    "     /   \\\n",
    "\n",
    "   2      3\n",
    "\n",
    "  / \\    / \\\n",
    "\n",
    "4   5  6   7\n",
    "\n",
    "Output1 : 28\n",
    "\n",
    "As all the tree elements are positive, the largest subtree sum is equal to sum of all tree elements.\n",
    "\n",
    "Input2 :\n",
    "\n",
    "       1\n",
    "\n",
    "     /    \\\n",
    "\n",
    "  -2      3\n",
    "\n",
    "  / \\    /  \\\n",
    "\n",
    "4   5  -6   2\n",
    "\n",
    "Output2 : 7\n",
    "\n",
    "Subtree with largest sum is :\n",
    "\n",
    " -2\n",
    "\n",
    " / \\\n",
    "\n",
    "4   5\n",
    "\n",
    "Also, entire tree sum is also 7.\n",
    "\n",
    "</aside>"
   ]
  },
  {
   "cell_type": "code",
   "execution_count": null,
   "metadata": {},
   "outputs": [],
   "source": [
    "# Solution:\n",
    "\n"
   ]
  },
  {
   "cell_type": "markdown",
   "metadata": {},
   "source": [
    "<aside>\n",
    "💡 Question-2\n",
    "\n",
    "Construct the BST (Binary Search Tree) from its given level order traversal.\n",
    "\n",
    "Example:\n",
    "\n",
    "Input: arr[] = {7, 4, 12, 3, 6, 8, 1, 5, 10}\n",
    "\n",
    "Output: BST:\n",
    "\n",
    "            7\n",
    "\n",
    "         /    \\\n",
    "\n",
    "       4     12\n",
    "\n",
    "     /  \\     /\n",
    "\n",
    "    3   6  8\n",
    "\n",
    "   /    /     \\\n",
    "\n",
    " 1    5      10\n",
    "\n",
    "</aside>"
   ]
  },
  {
   "cell_type": "code",
   "execution_count": null,
   "metadata": {},
   "outputs": [],
   "source": [
    "# Solution:\n",
    "\n"
   ]
  },
  {
   "cell_type": "markdown",
   "metadata": {},
   "source": [
    "<aside>\n",
    "💡 Question-3\n",
    "\n",
    "Given an array of size n. The problem is to check whether the given array can represent the level order traversal of a Binary Search Tree or not.\n",
    "\n",
    "Examples:\n",
    "\n",
    "Input1 : arr[] = {7, 4, 12, 3, 6, 8, 1, 5, 10}\n",
    "\n",
    "Output1 : Yes\n",
    "\n",
    "For the given arr[], the Binary Search Tree is:\n",
    "\n",
    "            7\n",
    "\n",
    "         /    \\\n",
    "\n",
    "       4     12\n",
    "\n",
    "     /  \\     /\n",
    "\n",
    "    3   6  8\n",
    "\n",
    "   /    /     \\\n",
    "\n",
    " 1    5      10\n",
    "\n",
    "Input2 : arr[] = {11, 6, 13, 5, 12, 10}\n",
    "\n",
    "Output2 : No\n",
    "\n",
    "The given arr[] does not represent the level order traversal of a BST.\n",
    "\n",
    "</aside>"
   ]
  },
  {
   "cell_type": "code",
   "execution_count": null,
   "metadata": {},
   "outputs": [],
   "source": [
    "# Solution:\n",
    "\n"
   ]
  },
  {
   "cell_type": "markdown",
   "metadata": {},
   "source": []
  }
 ],
 "metadata": {
  "language_info": {
   "name": "python"
  },
  "orig_nbformat": 4
 },
 "nbformat": 4,
 "nbformat_minor": 2
}
