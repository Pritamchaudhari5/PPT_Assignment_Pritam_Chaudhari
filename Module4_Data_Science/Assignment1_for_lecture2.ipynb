{
 "cells": [
  {
   "cell_type": "markdown",
   "metadata": {},
   "source": [
    "\n",
    "\n",
    "1. Write a Python program to reverse a string without using any built-in string reversal functions.\n",
    "2. Implement a function to check if a given string is a palindrome.\n",
    "3. Write a program to find the largest element in a given list.\n",
    "4. Implement a function to count the occurrence of each element in a list.\n",
    "5. Write a Python program to find the second largest number in a list.\n",
    "6. Implement a function to remove duplicate elements from a list.\n",
    "7. Write a program to calculate the factorial of a given number.\n",
    "8. Implement a function to check if a given number is prime.\n",
    "9. Write a Python program to sort a list of integers in ascending order.\n",
    "10. Implement a function to find the sum of all numbers in a list.\n",
    "11. Write a program to find the common elements between two lists.\n",
    "12. Implement a function to check if a given string is an anagram of another string.\n",
    "13. Write a Python program to generate all permutations of a given string.\n",
    "14. Implement a function to calculate the Fibonacci sequence up to a given number of terms.\n",
    "15. Write a program to find the median of a list of numbers.\n",
    "16. Implement a function to check if a given list is sorted in non-decreasing order.\n",
    "17. Write a Python program to find the intersection of two lists.\n",
    "18. Implement a function to find the maximum subarray sum in a given list.\n",
    "19. Write a program to remove all vowels from a given string.\n",
    "20. Implement a function to reverse the order of words in a given sentence.\n",
    "21. Write a Python program to check if two strings are anagrams of each other.\n",
    "22. Implement a function to find the first non-repeating character in a string.\n",
    "23. Write a program to find the prime factors of a given number.\n",
    "24. Implement a function to check if a given number is a power of two.\n",
    "25. Write a Python program to merge two sorted lists into a single sorted list.\n",
    "26. Implement a function to find the mode of a list of numbers.\n",
    "27. Write a program to find the greatest common divisor (GCD) of two numbers.\n",
    "28. Implement a function to calculate the square root of a given number.\n",
    "29. Write a Python program to check if a given string is a valid palindrome ignoring non-alphanumeric characters.\n",
    "30. Implement a function to find the minimum element in a rotated sorted list.\n",
    "31. Write a program to find the sum of all even numbers in a list.\n",
    "32. Implement a function to calculate the power of a number using recursion.\n",
    "33. Write a Python program to remove duplicates from a list while preserving the order.\n",
    "34. Implement a function to find the longest common prefix among a list of strings.\n",
    "35. Write a program to check if a given number is a perfect square.\n",
    "36. Implement a function to calculate the product of all elements in a list.\n",
    "37. Write a Python program to reverse the order of words in a sentence while preserving the word order.\n",
    "38. Implement a function to find the missing number in a given list of consecutive numbers.\n",
    "39. Write a program to find the sum of digits of a given number.\n",
    "40. Implement a function to check if a given string is a valid palindrome considering case sensitivity.\n",
    "41. Write a Python program to find the smallest missing positive integer in a list.\n",
    "42. Implement a function to find the longest palindrome substring in a given string.\n",
    "43. Write a program to find the number of occurrences of a given element in a list.\n",
    "44. Implement a function to check if a given number is a perfect number.\n",
    "45. Write a Python program to remove all duplicates from a string.\n",
    "46. Implement a function to find the first missing positive\n",
    "\n"
   ]
  },
  {
   "cell_type": "code",
   "execution_count": 2,
   "metadata": {},
   "outputs": [
    {
     "name": "stdout",
     "output_type": "stream",
     "text": [
      "noruenI\n"
     ]
    }
   ],
   "source": [
    "#1. Write a Python program to reverse a string without using any built-in string reversal functions.\n",
    "\n",
    "#Solution:\n",
    "\n",
    "def strrev(string):\n",
    "    reverse = \"\"   # Take an empty string\n",
    "    for i in string:\n",
    "        reverse = i + reverse  # So when we add to reverse it will add by first letter then other next letters from left side\n",
    "    return reverse\n",
    "\n",
    "#Lets try with example:\n",
    "\n",
    "string = \"Ineuron\"\n",
    "print(strrev(string))\n",
    "\n"
   ]
  },
  {
   "cell_type": "code",
   "execution_count": 8,
   "metadata": {},
   "outputs": [
    {
     "data": {
      "text/plain": [
       "False"
      ]
     },
     "execution_count": 8,
     "metadata": {},
     "output_type": "execute_result"
    }
   ],
   "source": [
    "# 2. Implement a function to check if a given string is a palindrome.\n",
    "\n",
    "# Solution:\n",
    "\n",
    "def palindrome(wo):\n",
    "    wo.replace(\" \", \"\").lower() # remove white spaces and make it lower all letters\n",
    "    reverse = wo[::-1]  # reverse the string\n",
    "    if wo == reverse:    # Check is it palindrom or not\n",
    "        return True\n",
    "    else:\n",
    "        return False\n",
    "    \n",
    "we = \"my name is\"\n",
    "palindrome(we)\n",
    "\n"
   ]
  },
  {
   "cell_type": "code",
   "execution_count": 9,
   "metadata": {},
   "outputs": [
    {
     "data": {
      "text/plain": [
       "True"
      ]
     },
     "execution_count": 9,
     "metadata": {},
     "output_type": "execute_result"
    }
   ],
   "source": [
    "wo = \"we o ew\"\n",
    "palindrome(wo)"
   ]
  },
  {
   "cell_type": "code",
   "execution_count": 13,
   "metadata": {},
   "outputs": [
    {
     "name": "stdout",
     "output_type": "stream",
     "text": [
      "9\n"
     ]
    }
   ],
   "source": [
    "# 3. Write a program to find the largest element in a given list.\n",
    "\n",
    "# Solution:\n",
    "\n",
    "def largest(li):\n",
    "    li.sort(reverse = True)\n",
    "\n",
    "    return li[0]\n",
    "\n",
    "# Check the solution:\n",
    "\n",
    "li = [2,5,9,7,3,8,3,8,3,5]\n",
    "print(largest(li))"
   ]
  },
  {
   "cell_type": "code",
   "execution_count": 17,
   "metadata": {},
   "outputs": [
    {
     "name": "stdout",
     "output_type": "stream",
     "text": [
      "{2: 6, 5: 4, 7: 2, 6: 4, 4: 4, 3: 2}\n"
     ]
    }
   ],
   "source": [
    "# 4. Implement a function to count the occurrence of each element in a list.\n",
    "\n",
    "#Solution:\n",
    "\n",
    "def occur(list1):\n",
    "    occura = {}\n",
    "    for i in list1:\n",
    "        \n",
    "        if i in occura:\n",
    "            occura[i] += 1\n",
    "        else:\n",
    "            occura[i] = 1\n",
    "    return occura\n",
    "\n",
    "# solution:\n",
    "\n",
    "lst = [2,5,7,5,2,5,6,4,2,5,7,4,3,2,2,6,4,6,3,2,6,4]\n",
    "print(occur(lst))\n"
   ]
  },
  {
   "cell_type": "code",
   "execution_count": null,
   "metadata": {},
   "outputs": [],
   "source": []
  }
 ],
 "metadata": {
  "kernelspec": {
   "display_name": "base",
   "language": "python",
   "name": "python3"
  },
  "language_info": {
   "codemirror_mode": {
    "name": "ipython",
    "version": 3
   },
   "file_extension": ".py",
   "mimetype": "text/x-python",
   "name": "python",
   "nbconvert_exporter": "python",
   "pygments_lexer": "ipython3",
   "version": "3.10.9"
  },
  "orig_nbformat": 4
 },
 "nbformat": 4,
 "nbformat_minor": 2
}
