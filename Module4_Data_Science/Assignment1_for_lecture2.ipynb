{
 "cells": [
  {
   "cell_type": "code",
   "execution_count": 2,
   "metadata": {},
   "outputs": [
    {
     "name": "stdout",
     "output_type": "stream",
     "text": [
      "noruenI\n"
     ]
    }
   ],
   "source": [
    "#1. Write a Python program to reverse a string without using any built-in string reversal functions.\n",
    "\n",
    "#Solution:\n",
    "\n",
    "def strrev(string):\n",
    "    reverse = \"\"   # Take an empty string\n",
    "    for i in string:\n",
    "        reverse = i + reverse  # So when we add to reverse it will add by first letter then other next letters from left side\n",
    "    return reverse\n",
    "\n",
    "#Lets try with example:\n",
    "\n",
    "string = \"Ineuron\"\n",
    "print(strrev(string))\n",
    "\n"
   ]
  },
  {
   "cell_type": "code",
   "execution_count": 8,
   "metadata": {},
   "outputs": [
    {
     "data": {
      "text/plain": [
       "False"
      ]
     },
     "execution_count": 8,
     "metadata": {},
     "output_type": "execute_result"
    }
   ],
   "source": [
    "# 2. Implement a function to check if a given string is a palindrome.\n",
    "\n",
    "# Solution:\n",
    "\n",
    "def palindrome(wo):\n",
    "    wo.replace(\" \", \"\").lower() # remove white spaces and make it lower all letters\n",
    "    reverse = wo[::-1]  # reverse the string\n",
    "    if wo == reverse:    # Check is it palindrom or not\n",
    "        return True\n",
    "    else:\n",
    "        return False\n",
    "    \n",
    "we = \"my name is\"\n",
    "palindrome(we)\n",
    "\n"
   ]
  },
  {
   "cell_type": "code",
   "execution_count": 9,
   "metadata": {},
   "outputs": [
    {
     "data": {
      "text/plain": [
       "True"
      ]
     },
     "execution_count": 9,
     "metadata": {},
     "output_type": "execute_result"
    }
   ],
   "source": [
    "wo = \"we o ew\"\n",
    "palindrome(wo)"
   ]
  },
  {
   "cell_type": "code",
   "execution_count": 13,
   "metadata": {},
   "outputs": [
    {
     "name": "stdout",
     "output_type": "stream",
     "text": [
      "9\n"
     ]
    }
   ],
   "source": [
    "# 3. Write a program to find the largest element in a given list.\n",
    "\n",
    "# Solution:\n",
    "\n",
    "def largest(li):\n",
    "    li.sort(reverse = True)\n",
    "\n",
    "    return li[0]\n",
    "\n",
    "# Check the solution:\n",
    "\n",
    "li = [2,5,9,7,3,8,3,8,3,5]\n",
    "print(largest(li))"
   ]
  },
  {
   "cell_type": "code",
   "execution_count": 17,
   "metadata": {},
   "outputs": [
    {
     "name": "stdout",
     "output_type": "stream",
     "text": [
      "{2: 6, 5: 4, 7: 2, 6: 4, 4: 4, 3: 2}\n"
     ]
    }
   ],
   "source": [
    "# 4. Implement a function to count the occurrence of each element in a list.\n",
    "\n",
    "#Solution:\n",
    "\n",
    "def occur(list1):\n",
    "    occura = {}\n",
    "    for i in list1:\n",
    "        \n",
    "        if i in occura:\n",
    "            occura[i] += 1\n",
    "        else:\n",
    "            occura[i] = 1\n",
    "    return occura\n",
    "\n",
    "# solution:\n",
    "\n",
    "lst = [2,5,7,5,2,5,6,4,2,5,7,4,3,2,2,6,4,6,3,2,6,4]\n",
    "print(occur(lst))\n"
   ]
  },
  {
   "cell_type": "markdown",
   "metadata": {},
   "source": [
    "5. Write a Python program to find the second largest number in a list."
   ]
  },
  {
   "cell_type": "code",
   "execution_count": 1,
   "metadata": {},
   "outputs": [
    {
     "name": "stdout",
     "output_type": "stream",
     "text": [
      "7\n"
     ]
    }
   ],
   "source": [
    "def secondlarge(num):\n",
    "    num.sort(reverse = True)\n",
    "\n",
    "    return num[1]\n",
    "\n",
    "# LEt's try with list\n",
    "\n",
    "ab = [3,6,3,67,3,7,4,6]\n",
    "print(secondlarge(ab))\n"
   ]
  },
  {
   "cell_type": "markdown",
   "metadata": {},
   "source": [
    "6. Implement a function to remove duplicate elements from a list."
   ]
  },
  {
   "cell_type": "code",
   "execution_count": 2,
   "metadata": {},
   "outputs": [
    {
     "data": {
      "text/plain": [
       "[32, 2, 4, 5, 6, 76, 24]"
      ]
     },
     "execution_count": 2,
     "metadata": {},
     "output_type": "execute_result"
    }
   ],
   "source": [
    "def remdupl(num):\n",
    "    # Set does not comtain any duplicate value\n",
    "    return list(set(num))\n",
    "\n",
    "# Lets try with example \n",
    "num = [2,4,76,2,24,6,4,32,5,6]\n",
    "remdupl(num)"
   ]
  },
  {
   "cell_type": "markdown",
   "metadata": {},
   "source": [
    "7. Write a program to calculate the factorial of a given number."
   ]
  },
  {
   "cell_type": "code",
   "execution_count": 3,
   "metadata": {},
   "outputs": [],
   "source": [
    "def facnum(num):\n",
    "    if num == 0:\n",
    "        return 1\n",
    "    else:\n",
    "        return num * facnum(num - 1)"
   ]
  },
  {
   "cell_type": "code",
   "execution_count": 5,
   "metadata": {},
   "outputs": [
    {
     "data": {
      "text/plain": [
       "720"
      ]
     },
     "execution_count": 5,
     "metadata": {},
     "output_type": "execute_result"
    }
   ],
   "source": [
    "#Lets try with example\n",
    "num = int(input())\n",
    "facnum(num)"
   ]
  },
  {
   "cell_type": "markdown",
   "metadata": {},
   "source": [
    "8. Implement a function to check if a given number is prime."
   ]
  },
  {
   "cell_type": "code",
   "execution_count": 6,
   "metadata": {},
   "outputs": [],
   "source": [
    "def is_prime(num):\n",
    "    if num <= 1:\n",
    "        return False\n",
    "    for i in range(2, int(num**0.5) + 1):\n",
    "        if num % i == 0:\n",
    "            return False\n",
    "    return True"
   ]
  },
  {
   "cell_type": "code",
   "execution_count": 9,
   "metadata": {},
   "outputs": [
    {
     "name": "stdout",
     "output_type": "stream",
     "text": [
      "7\n"
     ]
    },
    {
     "data": {
      "text/plain": [
       "True"
      ]
     },
     "execution_count": 9,
     "metadata": {},
     "output_type": "execute_result"
    }
   ],
   "source": [
    "num = int(input())\n",
    "print(num)\n",
    "is_prime(num)"
   ]
  },
  {
   "cell_type": "code",
   "execution_count": 10,
   "metadata": {},
   "outputs": [
    {
     "name": "stdout",
     "output_type": "stream",
     "text": [
      "49\n"
     ]
    },
    {
     "data": {
      "text/plain": [
       "False"
      ]
     },
     "execution_count": 10,
     "metadata": {},
     "output_type": "execute_result"
    }
   ],
   "source": [
    "num = int(input())\n",
    "print(num)\n",
    "is_prime(num)"
   ]
  },
  {
   "cell_type": "markdown",
   "metadata": {},
   "source": [
    "9. Write a Python program to sort a list of integers in ascending order."
   ]
  },
  {
   "cell_type": "code",
   "execution_count": 13,
   "metadata": {},
   "outputs": [
    {
     "name": "stdout",
     "output_type": "stream",
     "text": [
      "[2, 2, 3, 3, 5, 6, 7]\n"
     ]
    }
   ],
   "source": [
    "def ascord(n):\n",
    "    n.sort()\n",
    "\n",
    "    return n\n",
    "\n",
    "# Lets try with example\n",
    "\n",
    "lst = [3,6,2,7,2,5,3]\n",
    "print(ascord(lst))"
   ]
  },
  {
   "cell_type": "markdown",
   "metadata": {},
   "source": [
    "10. Implement a function to find the sum of all numbers in a list."
   ]
  },
  {
   "cell_type": "code",
   "execution_count": 17,
   "metadata": {},
   "outputs": [],
   "source": [
    "def sumall(n):\n",
    "    total = 0\n",
    "    for i in n:\n",
    "        total += i\n",
    "    return total"
   ]
  },
  {
   "cell_type": "code",
   "execution_count": 18,
   "metadata": {},
   "outputs": [
    {
     "data": {
      "text/plain": [
       "17"
      ]
     },
     "execution_count": 18,
     "metadata": {},
     "output_type": "execute_result"
    }
   ],
   "source": [
    "num = [4,3,7,3]\n",
    "sumall(num)"
   ]
  },
  {
   "cell_type": "markdown",
   "metadata": {},
   "source": [
    "11. Write a program to find the common elements between two lists."
   ]
  },
  {
   "cell_type": "code",
   "execution_count": 19,
   "metadata": {},
   "outputs": [],
   "source": [
    "def comlist(x,y):\n",
    "    common = []\n",
    "    for i in x:\n",
    "        if i in y:\n",
    "            common.append(i)\n",
    "    \n",
    "    return common"
   ]
  },
  {
   "cell_type": "code",
   "execution_count": 20,
   "metadata": {},
   "outputs": [
    {
     "data": {
      "text/plain": [
       "[3, 4, 8]"
      ]
     },
     "execution_count": 20,
     "metadata": {},
     "output_type": "execute_result"
    }
   ],
   "source": [
    "x = [3,6,4,8,9]\n",
    "y = [1,2,3,4,8]\n",
    "comlist(x, y)"
   ]
  },
  {
   "cell_type": "markdown",
   "metadata": {},
   "source": [
    "12. Implement a function to check if a given string is an anagram of another string."
   ]
  },
  {
   "cell_type": "code",
   "execution_count": 26,
   "metadata": {},
   "outputs": [],
   "source": [
    "def is_anag(x,y):\n",
    "    # first convert into lower and remove white spaces in it\n",
    "    x = x.replace(\" \", \"\").lower()\n",
    "    y = y.replace(\" \", \"\").lower()\n",
    "\n",
    "    # Check length\n",
    "    if len(x) != len(y):\n",
    "        return False\n",
    "    \n",
    "    xsrt = sorted(x)\n",
    "    ysrt = sorted(y)\n",
    "\n",
    "    if xsrt == ysrt:\n",
    "        return True\n",
    "    else:\n",
    "        return False"
   ]
  },
  {
   "cell_type": "code",
   "execution_count": 27,
   "metadata": {},
   "outputs": [
    {
     "name": "stdout",
     "output_type": "stream",
     "text": [
      "True\n",
      "False\n"
     ]
    }
   ],
   "source": [
    "x = 'raw'\n",
    "y = 'war'\n",
    "print(is_anag(x,y))\n",
    "\n",
    "x = 'sock'\n",
    "y = 'rock'\n",
    "print(is_anag(x,y))"
   ]
  },
  {
   "cell_type": "markdown",
   "metadata": {},
   "source": [
    "13. Write a Python program to generate all permutations of a given string."
   ]
  },
  {
   "cell_type": "code",
   "execution_count": 30,
   "metadata": {},
   "outputs": [
    {
     "name": "stdout",
     "output_type": "stream",
     "text": [
      "All permutations of the string:\n",
      "abc\n",
      "acb\n",
      "bac\n",
      "bca\n",
      "cab\n",
      "cba\n"
     ]
    }
   ],
   "source": [
    "def percombo(string):\n",
    "    # Base case: if the string is empty, return an empty list\n",
    "    if len(string) == 0:\n",
    "        return []\n",
    "\n",
    "    # Base case: if the string has only one character, return the string as a list\n",
    "    if len(string) == 1:\n",
    "        return [string]\n",
    "\n",
    "    # Recursive case: generate permutations by fixing one character at a time\n",
    "    perms = []  # List to store permutations\n",
    "\n",
    "    for i in range(len(string)):\n",
    "        # Fix the first character\n",
    "        first_char = string[i]\n",
    "\n",
    "        # Generate permutations of the remaining characters\n",
    "        remaining_chars = string[:i] + string[i + 1:]\n",
    "        subperms = percombo(remaining_chars)\n",
    "\n",
    "        # Add the fixed character to each permutation\n",
    "        for subperm in subperms:\n",
    "            perms.append(first_char + subperm)\n",
    "\n",
    "    return perms\n",
    "\n",
    "\n",
    "# Test the permutations function\n",
    "input_string = input(\"Enter a string: \")\n",
    "result = percombo(input_string)\n",
    "print(\"All permutations of the string:\")\n",
    "for perm in result:\n",
    "    print(perm)"
   ]
  },
  {
   "cell_type": "markdown",
   "metadata": {},
   "source": [
    "14. Implement a function to calculate the Fibonacci sequence up to a given number of terms."
   ]
  },
  {
   "cell_type": "code",
   "execution_count": 32,
   "metadata": {},
   "outputs": [
    {
     "name": "stdout",
     "output_type": "stream",
     "text": [
      "8\n"
     ]
    },
    {
     "data": {
      "text/plain": [
       "[0, 1, 1, 2, 3, 5, 8, 13]"
      ]
     },
     "execution_count": 32,
     "metadata": {},
     "output_type": "execute_result"
    }
   ],
   "source": [
    "def feb(n):\n",
    "    sequence = []\n",
    "    if n >= 1:\n",
    "        sequence.append(0)\n",
    "    if n >= 2:\n",
    "        sequence.append(1)\n",
    "    \n",
    "    for i in range(2, n):\n",
    "        next_term = sequence[i-1] + sequence[i-2]\n",
    "        sequence.append(next_term)\n",
    "    \n",
    "    return sequence\n",
    "\n",
    "# Let's try with example\n",
    "\n",
    "n = int(input(\"Give a input number:\"))\n",
    "print(n)\n",
    "feb(n)"
   ]
  },
  {
   "cell_type": "markdown",
   "metadata": {},
   "source": [
    "15. Write a program to find the median of a list of numbers."
   ]
  },
  {
   "cell_type": "code",
   "execution_count": 36,
   "metadata": {},
   "outputs": [
    {
     "name": "stdout",
     "output_type": "stream",
     "text": [
      "5\n",
      "6.5\n"
     ]
    }
   ],
   "source": [
    "def fimedian(n):\n",
    "    n.sort()\n",
    "    i = len(n) // 2\n",
    "\n",
    "    if len(n) % 2 == 0:\n",
    "        medi = (n[i]+n[i-1]) / 2\n",
    "    \n",
    "    else:\n",
    "        medi = n[i]\n",
    "    \n",
    "    return medi\n",
    "\n",
    "# Lets try with different examples:\n",
    "\n",
    "x = [1,3,5,6,9]\n",
    "y = [3,7,9,4,6,8]\n",
    "\n",
    "print(fimedian(x))\n",
    "\n",
    "print(fimedian(y))"
   ]
  },
  {
   "cell_type": "markdown",
   "metadata": {},
   "source": [
    "16. Implement a function to check if a given list is sorted in non-decreasing order."
   ]
  },
  {
   "cell_type": "code",
   "execution_count": 38,
   "metadata": {},
   "outputs": [
    {
     "name": "stdout",
     "output_type": "stream",
     "text": [
      "True\n",
      "False\n"
     ]
    }
   ],
   "source": [
    "def asce(n):\n",
    "    y = n[:]\n",
    "    n.sort()\n",
    "    if y == n:\n",
    "        return True\n",
    "    \n",
    "    return False\n",
    "\n",
    "# Lets try with example\n",
    "\n",
    "x= [1,2,3,4,5]\n",
    "y = [1,3,5,8,3]\n",
    "\n",
    "print(asce(x))\n",
    "print(asce(y))\n"
   ]
  },
  {
   "cell_type": "markdown",
   "metadata": {},
   "source": [
    "17. Write a Python program to find the intersection of two lists."
   ]
  },
  {
   "cell_type": "code",
   "execution_count": 41,
   "metadata": {},
   "outputs": [
    {
     "data": {
      "text/plain": [
       "[4, 5, 6]"
      ]
     },
     "execution_count": 41,
     "metadata": {},
     "output_type": "execute_result"
    }
   ],
   "source": [
    "def intersection(x,y):\n",
    "    intersection = list(set(x) & set(y)) # we use set for eliminate repeat element\n",
    "    return intersection\n",
    "\n",
    "# Lets try with example\n",
    "x= [1,2,3,4,5,6]\n",
    "y = [4,5,6,7,8]\n",
    "intersection(x,y)"
   ]
  },
  {
   "cell_type": "markdown",
   "metadata": {},
   "source": [
    "18. Implement a function to find the maximum subarray sum in a given list."
   ]
  },
  {
   "cell_type": "code",
   "execution_count": 56,
   "metadata": {},
   "outputs": [
    {
     "name": "stdout",
     "output_type": "stream",
     "text": [
      "The maximum subarray sum is: 6\n"
     ]
    }
   ],
   "source": [
    "def max_subarray_sum(arr):\n",
    "\n",
    "    current_sum = 0\n",
    "    max_sum = float('-inf')\n",
    "\n",
    "    for num in arr:\n",
    "        current_sum = max(num, current_sum + num)\n",
    "        max_sum = max(max_sum, current_sum)\n",
    "\n",
    "    return max_sum\n",
    "\n",
    "\n",
    "# Test the max_subarray_sum function\n",
    "my_list = [-2, 1, -3, 4, -1, 2, 1, -5, 4]\n",
    "print(\"The maximum subarray sum is:\", max_subarray_sum(my_list))\n"
   ]
  },
  {
   "cell_type": "markdown",
   "metadata": {},
   "source": [
    "19. Write a program to remove all vowels from a given string."
   ]
  },
  {
   "cell_type": "code",
   "execution_count": 58,
   "metadata": {},
   "outputs": [
    {
     "name": "stdout",
     "output_type": "stream",
     "text": [
      "Hll, Wrld!\n"
     ]
    }
   ],
   "source": [
    "def remove_vowels(string):\n",
    "    vowels = ['a', 'e', 'i', 'o', 'u', 'A', 'E', 'I', 'O', 'U']\n",
    "    without_vowels = \"\"\n",
    "    \n",
    "    for char in string:\n",
    "        if char not in vowels:\n",
    "            without_vowels += char\n",
    "    \n",
    "    return without_vowels\n",
    "\n",
    "# Example usage\n",
    "input_string = \"Hello, World!\"\n",
    "result = remove_vowels(input_string)\n",
    "print(result)\n"
   ]
  },
  {
   "cell_type": "markdown",
   "metadata": {},
   "source": [
    "20. Implement a function to reverse the order of words in a given sentence."
   ]
  },
  {
   "cell_type": "code",
   "execution_count": 59,
   "metadata": {},
   "outputs": [
    {
     "name": "stdout",
     "output_type": "stream",
     "text": [
      "abcdef\n",
      "fedcba\n"
     ]
    }
   ],
   "source": [
    "def revstr(str):\n",
    "    rev = str[::-1]\n",
    "\n",
    "    return rev\n",
    "\n",
    "n = str(input())\n",
    "print(n)\n",
    "print(revstr(n))"
   ]
  },
  {
   "cell_type": "markdown",
   "metadata": {},
   "source": [
    "21. Write a Python program to check if two strings are anagrams of each other."
   ]
  },
  {
   "cell_type": "code",
   "execution_count": 60,
   "metadata": {},
   "outputs": [],
   "source": [
    "def is_anag(x,y):\n",
    "    # first convert into lower and remove white spaces in it\n",
    "    x = x.replace(\" \", \"\").lower()\n",
    "    y = y.replace(\" \", \"\").lower()\n",
    "\n",
    "    # Check length\n",
    "    if len(x) != len(y):\n",
    "        return False\n",
    "    \n",
    "    xsrt = sorted(x)\n",
    "    ysrt = sorted(y)\n",
    "\n",
    "    if xsrt == ysrt:\n",
    "        return True\n",
    "    else:\n",
    "        return False"
   ]
  },
  {
   "cell_type": "code",
   "execution_count": 61,
   "metadata": {},
   "outputs": [
    {
     "name": "stdout",
     "output_type": "stream",
     "text": [
      "True\n",
      "False\n"
     ]
    }
   ],
   "source": [
    "# LEt's try with example\n",
    "\n",
    "x = \"my world you\"\n",
    "y = \"you my world\"\n",
    "print(is_anag(x,y))\n",
    "\n",
    "x = \"this is my car\"\n",
    "y = \"this is car\"\n",
    "print(is_anag(x,y))"
   ]
  },
  {
   "cell_type": "markdown",
   "metadata": {},
   "source": [
    "22. Implement a function to find the first non-repeating character in a string."
   ]
  },
  {
   "cell_type": "code",
   "execution_count": 63,
   "metadata": {},
   "outputs": [
    {
     "name": "stdout",
     "output_type": "stream",
     "text": [
      "v\n"
     ]
    }
   ],
   "source": [
    "def find_first_non_repeating_char(string):\n",
    "    char_count = {}\n",
    "    \n",
    "    # Count the occurrences of each character in the string\n",
    "    for char in string:\n",
    "        if char in char_count:\n",
    "            char_count[char] += 1\n",
    "        else:\n",
    "            char_count[char] = 1\n",
    "    \n",
    "    # Find the first character with count 1\n",
    "    for char in string:\n",
    "        if char_count[char] == 1:\n",
    "            return char\n",
    "    \n",
    "    # If no non-repeating character is found, return None\n",
    "    return None\n",
    "\n",
    "# Lets try with example:\n",
    "x = \"baf fa vne ckb\"\n",
    "print(find_first_non_repeating_char(x))"
   ]
  },
  {
   "cell_type": "markdown",
   "metadata": {},
   "source": [
    "\n",
    "23. Write a program to find the prime factors of a given number."
   ]
  },
  {
   "cell_type": "code",
   "execution_count": 64,
   "metadata": {},
   "outputs": [
    {
     "name": "stdout",
     "output_type": "stream",
     "text": [
      "The prime factors of 56 are: [2, 2, 2, 7]\n"
     ]
    }
   ],
   "source": [
    "def find_prime_factors(number):\n",
    "    prime_factors = []\n",
    "    divisor = 2\n",
    "    \n",
    "    while divisor <= number:\n",
    "        if number % divisor == 0:\n",
    "            prime_factors.append(divisor)\n",
    "            number = number / divisor\n",
    "        else:\n",
    "            divisor += 1\n",
    "    \n",
    "    return prime_factors\n",
    "\n",
    "# Example usage\n",
    "number = 56\n",
    "result = find_prime_factors(number)\n",
    "\n",
    "print(\"The prime factors of\", number, \"are:\", result)\n"
   ]
  },
  {
   "cell_type": "markdown",
   "metadata": {},
   "source": [
    "\n",
    "24. Implement a function to check if a given number is a power of two."
   ]
  },
  {
   "cell_type": "code",
   "execution_count": 65,
   "metadata": {},
   "outputs": [
    {
     "name": "stdout",
     "output_type": "stream",
     "text": [
      "True\n",
      "False\n"
     ]
    }
   ],
   "source": [
    "def pow_two(n):\n",
    "    if n <= 0:\n",
    "        return False\n",
    "    \n",
    "    while n > 1:\n",
    "        if n % 2 != 0:\n",
    "            return False\n",
    "        \n",
    "        n = n // 2\n",
    "\n",
    "    return True\n",
    "\n",
    "# Let's try with example\n",
    "\n",
    "n = 16\n",
    "x = 46\n",
    "\n",
    "print(pow_two(n))\n",
    "print(pow_two(x))"
   ]
  },
  {
   "cell_type": "markdown",
   "metadata": {},
   "source": [
    "\n",
    "25. Write a Python program to merge two sorted lists into a single sorted list."
   ]
  },
  {
   "cell_type": "code",
   "execution_count": 68,
   "metadata": {},
   "outputs": [
    {
     "name": "stdout",
     "output_type": "stream",
     "text": [
      "[2, 4, 7, 4, 2, 7, 3, 6]\n"
     ]
    }
   ],
   "source": [
    "def mergelist(x,y):\n",
    "    mergea = x + y\n",
    "    return mergea\n",
    "\n",
    "x = [2,4,7,4,2]\n",
    "y = [7,3,6]\n",
    "print(mergelist(x,y))"
   ]
  },
  {
   "cell_type": "markdown",
   "metadata": {},
   "source": [
    "\n",
    "26. Implement a function to find the mode of a list of numbers."
   ]
  },
  {
   "cell_type": "code",
   "execution_count": 69,
   "metadata": {},
   "outputs": [
    {
     "name": "stdout",
     "output_type": "stream",
     "text": [
      "[30]\n"
     ]
    }
   ],
   "source": [
    "def find_mode(a):\n",
    "    modeList = {}\n",
    "    for item in a:\n",
    "        if item in modeList:\n",
    "            modeList[item] += 1\n",
    "        else:\n",
    "            modeList[item] = 1\n",
    "    return [key for key in modeList.keys() if modeList[key] == max(modeList.values())]\n",
    "\n",
    "myList = [10, 20, 20, 30, 30 ,30, 40]\n",
    "print(find_mode(myList))"
   ]
  },
  {
   "cell_type": "markdown",
   "metadata": {},
   "source": [
    "\n",
    "27. Write a program to find the greatest common divisor (GCD) of two numbers."
   ]
  },
  {
   "cell_type": "code",
   "execution_count": 70,
   "metadata": {},
   "outputs": [
    {
     "name": "stdout",
     "output_type": "stream",
     "text": [
      "The gcd of 50 and 18 is : 2\n"
     ]
    }
   ],
   "source": [
    "def hcf(a, b):\n",
    "    if(b == 0):\n",
    "        return a\n",
    "    else:\n",
    "        return hcf(b, a % b)\n",
    "a = 50\n",
    "b = 18\n",
    " \n",
    "\n",
    "print(\"The gcd of 50 and 18 is : \", end=\"\")\n",
    "print(hcf(50, 18))"
   ]
  },
  {
   "cell_type": "markdown",
   "metadata": {},
   "source": [
    "\n",
    "28. Implement a function to calculate the square root of a given number."
   ]
  },
  {
   "cell_type": "code",
   "execution_count": 72,
   "metadata": {},
   "outputs": [
    {
     "name": "stdout",
     "output_type": "stream",
     "text": [
      "2.0\n",
      "2.8284271247461903\n"
     ]
    }
   ],
   "source": [
    "def sqrt(a):\n",
    "    return  a**0.5\n",
    "\n",
    "print(sqrt(4))\n",
    "print(sqrt(8))"
   ]
  },
  {
   "cell_type": "markdown",
   "metadata": {},
   "source": [
    "\n",
    "29. Write a Python program to check if a given string is a valid palindrome ignoring non-alphanumeric characters."
   ]
  },
  {
   "cell_type": "code",
   "execution_count": 73,
   "metadata": {},
   "outputs": [
    {
     "data": {
      "text/plain": [
       "False"
      ]
     },
     "execution_count": 73,
     "metadata": {},
     "output_type": "execute_result"
    }
   ],
   "source": [
    "def palindrome(wo):\n",
    "    wo.replace(\" \", \"\").lower() # remove white spaces and make it lower all letters\n",
    "    reverse = wo[::-1]  # reverse the string\n",
    "    if wo == reverse:    # Check is it palindrom or not\n",
    "        return True\n",
    "    else:\n",
    "        return False\n",
    "    \n",
    "we = \"my name is\"\n",
    "palindrome(we)\n",
    "\n"
   ]
  },
  {
   "cell_type": "markdown",
   "metadata": {},
   "source": [
    "\n",
    "30. Implement a function to find the minimum element in a rotated sorted list."
   ]
  },
  {
   "cell_type": "code",
   "execution_count": 74,
   "metadata": {},
   "outputs": [
    {
     "name": "stdout",
     "output_type": "stream",
     "text": [
      "1\n"
     ]
    }
   ],
   "source": [
    "def findMin(arr, N):\n",
    "     \n",
    "    min_ele = arr[0]\n",
    " \n",
    "    # Traversing over array to\n",
    "    # find minimum element\n",
    "    for i in range(N) :\n",
    "        if arr[i] < min_ele :\n",
    "            min_ele = arr[i]\n",
    " \n",
    "    return min_ele\n",
    "\n",
    "arr = [5, 6, 1, 2, 7, 4]\n",
    "N = len(arr)\n",
    " \n",
    "print(findMin(arr,N))"
   ]
  },
  {
   "cell_type": "markdown",
   "metadata": {},
   "source": [
    "\n",
    "31. Write a program to find the sum of all even numbers in a list."
   ]
  },
  {
   "cell_type": "code",
   "execution_count": 75,
   "metadata": {},
   "outputs": [
    {
     "data": {
      "text/plain": [
       "54"
      ]
     },
     "execution_count": 75,
     "metadata": {},
     "output_type": "execute_result"
    }
   ],
   "source": [
    "def sum_Even(arr):\n",
    "    arra = []\n",
    "    for i in arr:\n",
    "        if i % 2 == 0:\n",
    "            arra.append(i)\n",
    "    return sum(arra)\n",
    "\n",
    "lst = [2,3,4,5,6,7,8,9,11,13,15,18,16]\n",
    "sum_Even(lst)"
   ]
  },
  {
   "cell_type": "markdown",
   "metadata": {},
   "source": [
    "\n",
    "32. Implement a function to calculate the power of a number using recursion."
   ]
  },
  {
   "cell_type": "code",
   "execution_count": 76,
   "metadata": {},
   "outputs": [
    {
     "name": "stdout",
     "output_type": "stream",
     "text": [
      "4096\n"
     ]
    }
   ],
   "source": [
    "def power(N, P):\n",
    " \n",
    "    # If power is 0 then return 1\n",
    "    if P == 0:\n",
    "        return 1\n",
    " \n",
    "    # Recurrence relation\n",
    "    if P%2 == 0:\n",
    "        result = power(N, P//2)\n",
    "        return result * result\n",
    "    else :\n",
    "        result = power(N, (P-1)//2)\n",
    "        return N * result * result \n",
    "    \n",
    "if __name__ == '__main__':\n",
    "    N = 8\n",
    "    P = 4\n",
    " \n",
    "    print(power(N, P))"
   ]
  },
  {
   "cell_type": "markdown",
   "metadata": {},
   "source": [
    "\n",
    "33. Write a Python program to remove duplicates from a list while preserving the order."
   ]
  },
  {
   "cell_type": "code",
   "execution_count": 77,
   "metadata": {},
   "outputs": [
    {
     "name": "stdout",
     "output_type": "stream",
     "text": [
      "List with duplicates removed: [6, 2, 5, 7, 3, 1, 78, 0, 67, 93]\n"
     ]
    }
   ],
   "source": [
    "def remove_duplicates(l):\n",
    "    seen = set()\n",
    "    result = []\n",
    "\n",
    "    for item in l:\n",
    "        if item not in seen:\n",
    "            seen.add(item)\n",
    "            result.append(item)\n",
    "\n",
    "    return result\n",
    "\n",
    "# Test the function\n",
    "l = [6,2,5,6,7,2,5,6,3,1,78,0,2,67,1,6,93,]\n",
    "updated_l = remove_duplicates(l)\n",
    "print(\"List with duplicates removed:\", updated_l)"
   ]
  },
  {
   "cell_type": "markdown",
   "metadata": {},
   "source": [
    "\n",
    "34. Implement a function to find the longest common prefix among a list of strings."
   ]
  },
  {
   "cell_type": "code",
   "execution_count": 78,
   "metadata": {},
   "outputs": [
    {
     "name": "stdout",
     "output_type": "stream",
     "text": [
      "The longest Common Prefix is : fl\n"
     ]
    }
   ],
   "source": [
    "def longestCommonPrefix( a):\n",
    "     \n",
    "    size = len(a)\n",
    "    # if size is 0, return empty string\n",
    "    if (size == 0):\n",
    "        return \"\"\n",
    " \n",
    "    if (size == 1):\n",
    "        return a[0]\n",
    "    # sort the array of strings\n",
    "    a.sort()\n",
    "     \n",
    "    # find the minimum length from\n",
    "    # first and last string\n",
    "    end = min(len(a[0]), len(a[size - 1]))\n",
    " \n",
    "    # find the common prefix between\n",
    "    # the first and last string\n",
    "    i = 0\n",
    "    while (i < end and\n",
    "           a[0][i] == a[size - 1][i]):\n",
    "        i += 1\n",
    " \n",
    "    pre = a[0][0: i]\n",
    "    return pre\n",
    " \n",
    "# Driver Code\n",
    "if __name__ == \"__main__\":\n",
    " \n",
    "    input = [\"flower\", \"flow\", \"flight\", \"flying\" ]\n",
    "    print(\"The longest Common Prefix is :\" , longestCommonPrefix(input)) "
   ]
  },
  {
   "cell_type": "markdown",
   "metadata": {},
   "source": [
    "\n",
    "35. Write a program to check if a given number is a perfect square."
   ]
  },
  {
   "cell_type": "code",
   "execution_count": 83,
   "metadata": {},
   "outputs": [
    {
     "name": "stdout",
     "output_type": "stream",
     "text": [
      "perfect square\n"
     ]
    }
   ],
   "source": [
    "import math\n",
    " \n",
    "def checkperfectsquare(x):\n",
    "    # If ceil and floor are equal\n",
    "    # the number is a perfect\n",
    "    # square\n",
    "    if (math.ceil(math.sqrt(n)) ==\n",
    "       math.floor(math.sqrt(n))):\n",
    "        print(\"perfect square\")\n",
    "    else:\n",
    "        print(\"not a perfect square\")\n",
    "        \n",
    "n = 2500\n",
    "  \n",
    "checkperfectsquare(n)"
   ]
  },
  {
   "cell_type": "markdown",
   "metadata": {},
   "source": [
    "\n",
    "36. Implement a function to calculate the product of all elements in a list."
   ]
  },
  {
   "cell_type": "code",
   "execution_count": 84,
   "metadata": {},
   "outputs": [
    {
     "data": {
      "text/plain": [
       "210"
      ]
     },
     "execution_count": 84,
     "metadata": {},
     "output_type": "execute_result"
    }
   ],
   "source": [
    "def multele(ele):\n",
    "    total = 1\n",
    "    for i in ele:\n",
    "        total = total * i\n",
    "\n",
    "    return total\n",
    "\n",
    "lst = [2,3,5,7]\n",
    "\n",
    "multele(lst)\n"
   ]
  },
  {
   "cell_type": "markdown",
   "metadata": {},
   "source": [
    "\n",
    "37. Write a Python program to reverse the order of words in a sentence while preserving the word order."
   ]
  },
  {
   "cell_type": "code",
   "execution_count": 85,
   "metadata": {},
   "outputs": [
    {
     "name": "stdout",
     "output_type": "stream",
     "text": [
      "coding python love i\n"
     ]
    }
   ],
   "source": [
    "def rev_sentence(sentence):\n",
    "    words = sentence.split(' ')         # first split the string into words\n",
    "    reverse_sentence = ' '.join(reversed(words))   # then reverse the split string list and join using space\n",
    " \n",
    "    # finally return the joined string\n",
    "    return reverse_sentence\n",
    " \n",
    "if __name__ == \"__main__\":\n",
    "    input = 'i love python coding'\n",
    "    print (rev_sentence(input))"
   ]
  },
  {
   "cell_type": "markdown",
   "metadata": {},
   "source": [
    "\n",
    "38. Implement a function to find the missing number in a given list of consecutive numbers."
   ]
  },
  {
   "cell_type": "code",
   "execution_count": 87,
   "metadata": {},
   "outputs": [
    {
     "name": "stdout",
     "output_type": "stream",
     "text": [
      "9\n",
      "7\n"
     ]
    }
   ],
   "source": [
    "def misno(aa):\n",
    "    ab = aa[0]\n",
    "    for i in aa:\n",
    "        if ab != i:\n",
    "            return ab\n",
    "        ab += 1\n",
    "\n",
    "a = [1,2,3,4,5,6,7,8,10,11,12]\n",
    "b = [3,4,5,6,8,9,10]\n",
    "\n",
    "print(misno(a))\n",
    "\n",
    "print(misno(b))\n",
    "    "
   ]
  },
  {
   "cell_type": "markdown",
   "metadata": {},
   "source": [
    "\n",
    "39. Write a program to find the sum of digits of a given number."
   ]
  },
  {
   "cell_type": "code",
   "execution_count": 88,
   "metadata": {},
   "outputs": [
    {
     "name": "stdout",
     "output_type": "stream",
     "text": [
      "The sum of digits of 12345 is: 15\n"
     ]
    }
   ],
   "source": [
    "def sum_of_digits(number):\n",
    "    # Convert the number to a string\n",
    "    number_str = str(number)\n",
    "    \n",
    "    # Initialize the sum\n",
    "    digit_sum = 0\n",
    "    \n",
    "    # Iterate over each digit in the string and add it to the sum\n",
    "    for digit in number_str:\n",
    "        digit_sum += int(digit)\n",
    "    \n",
    "    return digit_sum\n",
    "\n",
    "# Example usage\n",
    "number = 12345\n",
    "result = sum_of_digits(number)\n",
    "\n",
    "print(\"The sum of digits of\", number, \"is:\", result)"
   ]
  },
  {
   "cell_type": "markdown",
   "metadata": {},
   "source": [
    "\n",
    "40. Implement a function to check if a given string is a valid palindrome considering case sensitivity."
   ]
  },
  {
   "cell_type": "code",
   "execution_count": 89,
   "metadata": {},
   "outputs": [
    {
     "name": "stdout",
     "output_type": "stream",
     "text": [
      "False\n",
      "True\n",
      "False\n"
     ]
    }
   ],
   "source": [
    "def palindromeC(wo):\n",
    "    wo.replace(\" \", \"\") # remove white spaces\n",
    "    reverse = wo[::-1]  # reverse the string\n",
    "    if wo == reverse:    # Check is it palindrom or not\n",
    "        return True\n",
    "    else:\n",
    "        return False\n",
    "    \n",
    "we = \"my name is\"\n",
    "print(palindromeC(we))\n",
    "\n",
    "ne = \"YeahaeY\"\n",
    "gt = \"Yeaey\"\n",
    "\n",
    "print(palindromeC(ne))\n",
    "print(palindromeC(gt))"
   ]
  },
  {
   "cell_type": "markdown",
   "metadata": {},
   "source": [
    "41. Write a Python program to find the smallest missing positive integer in a list."
   ]
  },
  {
   "cell_type": "code",
   "execution_count": 90,
   "metadata": {},
   "outputs": [
    {
     "name": "stdout",
     "output_type": "stream",
     "text": [
      "Smallest missing element is 8\n"
     ]
    }
   ],
   "source": [
    "def findFirstMissing(arr, n, m):\n",
    "    vec = [0] * m\n",
    "  \n",
    "    for i in range(n):\n",
    "        vec[arr[i]] = 1\n",
    "          \n",
    "    for i in range(m):\n",
    "        if vec[i] == 0:\n",
    "            return i\n",
    "              \n",
    "    return m\n",
    "  \n",
    "arr = [0, 1, 2, 3, 4, 5, 6, 7, 10]\n",
    "n = len(arr)\n",
    "m = 11\n",
    "print(\"Smallest missing element is\", findFirstMissing(arr, n, m))"
   ]
  },
  {
   "cell_type": "markdown",
   "metadata": {},
   "source": [
    "\n",
    "42. Implement a function to find the longest palindrome substring in a given string."
   ]
  },
  {
   "cell_type": "code",
   "execution_count": 91,
   "metadata": {},
   "outputs": [
    {
     "name": "stdout",
     "output_type": "stream",
     "text": [
      "DDJDD\n"
     ]
    }
   ],
   "source": [
    "class Solution(object):\n",
    "    def longestPalindrome(self, s):\n",
    "        dp = [[False for i in range(len(s))] for i in range(len(s))]\n",
    "        for i in range(len(s)):\n",
    "            dp[i][i] = True\n",
    "        max_length = 1\n",
    "        start = 0\n",
    "        for l in range(2,len(s)+1):\n",
    "            for i in range(len(s)-l+1):\n",
    "                end = i+l\n",
    "                if l==2:\n",
    "                    if s[i] == s[end-1]:\n",
    "                        dp[i][end-1]=True\n",
    "                        max_length = l\n",
    "                        start = i\n",
    "                else:\n",
    "                    if s[i] == s[end-1] and dp[i+1][end-4]:\n",
    "                        dp[i][end-1]=True\n",
    "                        max_length = l\n",
    "                        start = i\n",
    "        return s[start:start+max_length]\n",
    "ob1 = Solution()\n",
    "print(ob1.longestPalindrome(\"BDDJDDIWE\"))"
   ]
  },
  {
   "cell_type": "markdown",
   "metadata": {},
   "source": [
    "\n",
    "43. Write a program to find the number of occurrences of a given element in a list."
   ]
  },
  {
   "cell_type": "code",
   "execution_count": 92,
   "metadata": {},
   "outputs": [
    {
     "name": "stdout",
     "output_type": "stream",
     "text": [
      "4\n"
     ]
    }
   ],
   "source": [
    "def occ(lst, target):\n",
    "    occure = 0\n",
    "    for i in lst:\n",
    "        if target == i:\n",
    "            occure += 1\n",
    "    \n",
    "    return occure\n",
    "\n",
    "lst = [2,3,4,5,6,3,6,4,3,2,5,4,3]\n",
    "print(occ(lst,3))\n"
   ]
  },
  {
   "cell_type": "markdown",
   "metadata": {},
   "source": [
    "\n",
    "44. Implement a function to check if a given number is a perfect number."
   ]
  },
  {
   "cell_type": "code",
   "execution_count": 93,
   "metadata": {},
   "outputs": [
    {
     "name": "stdout",
     "output_type": "stream",
     "text": [
      "True\n"
     ]
    }
   ],
   "source": [
    "def perfect_number(n):\n",
    "    sum = 0\n",
    "    for x in range(1, n):\n",
    "        if n % x == 0:\n",
    "            sum += x\n",
    "    return sum == n\n",
    "\n",
    "print(perfect_number(6))\n",
    "\n"
   ]
  },
  {
   "cell_type": "markdown",
   "metadata": {},
   "source": [
    "\n",
    "45. Write a Python program to remove all duplicates from a string."
   ]
  },
  {
   "cell_type": "code",
   "execution_count": 94,
   "metadata": {},
   "outputs": [
    {
     "name": "stdout",
     "output_type": "stream",
     "text": [
      "khaseib\n"
     ]
    }
   ],
   "source": [
    "def removeDuplicate(str, n):\n",
    "    s = set()\n",
    "     \n",
    "    # Create a set using String characters\n",
    "    for i in str:\n",
    "        s.add(i)\n",
    " \n",
    "    # Print content of the set\n",
    "    st = \"\"\n",
    "    for i in s:\n",
    "        st = st+i\n",
    "    return st\n",
    " \n",
    "str = \"abhbaiasahaeaika\"\n",
    "n = len(str)\n",
    "print(removeDuplicate(list(str), n))"
   ]
  },
  {
   "cell_type": "markdown",
   "metadata": {},
   "source": [
    "46. Implement a function to find the first missing positive"
   ]
  },
  {
   "cell_type": "code",
   "execution_count": 96,
   "metadata": {},
   "outputs": [],
   "source": [
    "def find_first_missing_positive(nums):\n",
    "    # Remove negative numbers and zeros\n",
    "    nums = [num for num in nums if num > 0]\n",
    "    \n",
    "    # Mark numbers as visited by using the index as an indicator\n",
    "    n = len(nums)\n",
    "    for i in range(n):\n",
    "        num = abs(nums[i])\n",
    "        if num <= n:\n",
    "            nums[num - 1] = -abs(nums[num - 1])\n",
    "    \n",
    "    # Find the first positive number\n",
    "    for i in range(n):\n",
    "        if nums[i] > 0:\n",
    "            return i + 1\n",
    "    \n",
    "    # If all positive numbers are present, return the next positive number\n",
    "    return n + 1\n"
   ]
  },
  {
   "cell_type": "code",
   "execution_count": 97,
   "metadata": {},
   "outputs": [
    {
     "name": "stdout",
     "output_type": "stream",
     "text": [
      "The first missing positive integer is: 2\n"
     ]
    }
   ],
   "source": [
    "nums = [3, 4, -1, 1]\n",
    "result = find_first_missing_positive(nums)\n",
    "\n",
    "print(\"The first missing positive integer is:\", result)\n"
   ]
  },
  {
   "cell_type": "code",
   "execution_count": null,
   "metadata": {},
   "outputs": [],
   "source": []
  }
 ],
 "metadata": {
  "kernelspec": {
   "display_name": "base",
   "language": "python",
   "name": "python3"
  },
  "language_info": {
   "codemirror_mode": {
    "name": "ipython",
    "version": 3
   },
   "file_extension": ".py",
   "mimetype": "text/x-python",
   "name": "python",
   "nbconvert_exporter": "python",
   "pygments_lexer": "ipython3",
   "version": "3.10.9"
  },
  "orig_nbformat": 4
 },
 "nbformat": 4,
 "nbformat_minor": 2
}
